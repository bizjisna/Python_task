{
 "cells": [
  {
   "cell_type": "markdown",
   "id": "89911479",
   "metadata": {},
   "source": [
    "## 1. LIST \n",
    "* List is an ordered, mutable collection of heterogenous elements.\n",
    "* It is given by '[ ]' and separated by ',' .\n",
    "* List can be created using the list().\n",
    "* Lists allow duplicate values .\n",
    "* The values in the list can be accessed using indexes.\n",
    "* eg: list1=[\"apple\",123,True,5.36,1]"
   ]
  },
  {
   "cell_type": "code",
   "execution_count": 1,
   "id": "c950ec30",
   "metadata": {},
   "outputs": [
    {
     "name": "stdout",
     "output_type": "stream",
     "text": [
      "['apple', 123, True, 5.36, 1]\n"
     ]
    }
   ],
   "source": [
    "list1=[\"apple\",123,True,5.36,1]\n",
    "print(list1)"
   ]
  },
  {
   "cell_type": "markdown",
   "id": "1dcb2552",
   "metadata": {},
   "source": [
    "## 2. TUPLE\n",
    "* Tuple is an ordered, immutable collection of heterogeneous elements.\n",
    "* It is given by '( )' and separated by ','.\n",
    "* They can be created using tuple().\n",
    "* Tuples allow duplicate values.\n",
    "* The values in the tuple can be accessed by indexes.\n",
    "* eg:tuple1=(\"orange\",4534,5.5,False,0)"
   ]
  },
  {
   "cell_type": "code",
   "execution_count": 2,
   "id": "5a371f6a",
   "metadata": {},
   "outputs": [
    {
     "name": "stdout",
     "output_type": "stream",
     "text": [
      "('orange', 4534, 5.5, False, 0)\n"
     ]
    }
   ],
   "source": [
    "tuple1=(\"orange\",4534,5.5,False,0)\n",
    "print(tuple1)"
   ]
  },
  {
   "cell_type": "markdown",
   "id": "28b44bb5",
   "metadata": {},
   "source": [
    "## 3. Difference between list and tuple\n",
    "\n",
    "* Lists are mutable while tuples are not.\n",
    "* Tuples are faster than lists.\n",
    "* Tuples are more memory-effecient than lists.\n"
   ]
  },
  {
   "cell_type": "markdown",
   "id": "47b60c03",
   "metadata": {},
   "source": [
    "## 4. Python Program to find the largest element in the list."
   ]
  },
  {
   "cell_type": "code",
   "execution_count": 3,
   "id": "0de18a97",
   "metadata": {},
   "outputs": [
    {
     "name": "stdout",
     "output_type": "stream",
     "text": [
      "Maximum value in given list is 98\n",
      "Maximum value in given list is 98\n"
     ]
    }
   ],
   "source": [
    "# using built-in functions sort , max\n",
    "\n",
    "## for numbers\n",
    "list1=[5,66.5,98,7,4]\n",
    "list1.sort()\n",
    "\n",
    "max_val=list1[-1]\n",
    "print(\"Maximum value in given list is\",max_val)\n",
    "\n",
    "max_val=max(list1)\n",
    "print(\"Maximum value in given list is\",max_val)"
   ]
  },
  {
   "cell_type": "code",
   "execution_count": 4,
   "id": "57866782",
   "metadata": {},
   "outputs": [
    {
     "name": "stdout",
     "output_type": "stream",
     "text": [
      "Maximum value in given list is watermelon\n",
      "Maximum value in given list is watermelon\n"
     ]
    }
   ],
   "source": [
    "##for strings\n",
    "\n",
    "list2=[\"apple\",\"pear\",\"watermelon\",\"blueberry\"]\n",
    "max_val=max(list2)\n",
    "print(\"Maximum value in given list is\",max_val)\n",
    "\n",
    "sorted_val=sorted(list2,key=len)\n",
    "max_val=sorted_val[-1]\n",
    "print(\"Maximum value in given list is\",max_val)"
   ]
  },
  {
   "cell_type": "code",
   "execution_count": 5,
   "id": "29053772",
   "metadata": {},
   "outputs": [
    {
     "name": "stdout",
     "output_type": "stream",
     "text": [
      "Maximum value in given list is 98\n"
     ]
    }
   ],
   "source": [
    "#using loop\n",
    "\n",
    "list1=[5,66,98,7,4]\n",
    "\n",
    "max_val=list1[0]\n",
    "\n",
    "for i in list1:\n",
    "    if i > max_val:\n",
    "        max_val=i\n",
    "print(\"Maximum value in given list is\",max_val)\n",
    "\n"
   ]
  },
  {
   "cell_type": "code",
   "execution_count": 6,
   "id": "bcf34555",
   "metadata": {},
   "outputs": [
    {
     "name": "stdout",
     "output_type": "stream",
     "text": [
      "Number of values to be inserted in the list : 3\n",
      "Enter number : 66\n",
      "Enter number : 44\n",
      "Enter number : 55\n",
      "The given list is [66, 44, 55]\n",
      "Maximum value in given list is 66\n"
     ]
    }
   ],
   "source": [
    "##Taking input from user\n",
    "\n",
    "input_val=int(input(\"Number of values to be inserted in the list : \"))\n",
    "list1=[]\n",
    "\n",
    "for i in range(input_val):\n",
    "    val=int(input(\"Enter number : \"))\n",
    "    list1.append(val)\n",
    "    \n",
    "    max_val=list1[0]\n",
    "    for i in list1:\n",
    "        if i > max_val:\n",
    "            max_val=i\n",
    "print(\"The given list is\",list1)            \n",
    "print(\"Maximum value in given list is\",max_val)\n",
    "\n"
   ]
  },
  {
   "cell_type": "markdown",
   "id": "56b761f7",
   "metadata": {},
   "source": [
    "## 5. Python program to interchange first and last elements in a list."
   ]
  },
  {
   "cell_type": "code",
   "execution_count": 7,
   "id": "94f63bdf",
   "metadata": {},
   "outputs": [
    {
     "name": "stdout",
     "output_type": "stream",
     "text": [
      "Swapped list is ['happy', 'apple', True, 123]\n",
      "Original list is ['happy', 'apple', True, 123]\n",
      "Swapped list is [123, 'apple', True, 'happy']\n"
     ]
    }
   ],
   "source": [
    "list1=[123,\"apple\",True,\"happy\"]\n",
    "\n",
    "list1[-1] ,list1[0]=list1[0] ,list1[-1]\n",
    "print(\"Swapped list is\",list1)\n",
    "\n",
    "# To avoid modification of original list\n",
    "\n",
    "list1=[123,\"apple\",True,\"happy\"]\n",
    "new_list=list1.copy()\n",
    "\n",
    "list1[-1] ,list1[0]=list1[0] ,list1[-1]\n",
    "\n",
    "print(\"Original list is\",list1)\n",
    "print(\"Swapped list is\",new_list)\n"
   ]
  },
  {
   "cell_type": "code",
   "execution_count": 8,
   "id": "ef2de1c9",
   "metadata": {},
   "outputs": [
    {
     "name": "stdout",
     "output_type": "stream",
     "text": [
      "Original list is [123, 'apple', True, 'happy']\n",
      "Swapped list is ['happy', 'apple', True, 123]\n"
     ]
    }
   ],
   "source": [
    "##using function\n",
    "\n",
    "def swap_list(list1):\n",
    "    \n",
    "    list1[0],list1[-1] = list1[-1],list1[0]\n",
    "    return list1\n",
    "    \n",
    "new_list=[123,\"apple\",True,\"happy\"]\n",
    "\n",
    "\n",
    "print(\"Original list is\",new_list)\n",
    "print(\"Swapped list is\",swap_list(new_list))"
   ]
  },
  {
   "cell_type": "code",
   "execution_count": 9,
   "id": "cab5fb4c",
   "metadata": {},
   "outputs": [
    {
     "name": "stdout",
     "output_type": "stream",
     "text": [
      "Original list is [123, 'apple', True, 'happy']\n",
      "Swapped list is ['happy', 'apple', True, 123]\n"
     ]
    }
   ],
   "source": [
    "def swap_list(list1):\n",
    "    \n",
    "    [first,*middle,last] = list1         #unpacking the list\n",
    "    list1 = [last,*middle,first]         #packing the list\n",
    "    \n",
    "    return list1\n",
    "\n",
    "new_list=[123,\"apple\",True,\"happy\"]\n",
    "\n",
    "print(\"Original list is\",new_list)\n",
    "print(\"Swapped list is\",swap_list(new_list))"
   ]
  },
  {
   "cell_type": "code",
   "execution_count": 10,
   "id": "be7a18cb",
   "metadata": {},
   "outputs": [
    {
     "name": "stdout",
     "output_type": "stream",
     "text": [
      "Original list is [123, 'apple', True, 'happy']\n",
      "Swapped list is ['happy', 'apple', True, 123]\n"
     ]
    }
   ],
   "source": [
    "#using the pop() method\n",
    "\n",
    "def swap_list(list1):\n",
    "    \n",
    "    first=list1.pop(0)\n",
    "    last=list1.pop()\n",
    "    \n",
    "    list1.insert(0,last)\n",
    "    list1.append(first)\n",
    "    \n",
    "    return list1\n",
    "\n",
    "new_list=[123,\"apple\",True,\"happy\"]\n",
    "\n",
    "print(\"Original list is\",new_list)\n",
    "print(\"Swapped list is\",swap_list(new_list))\n"
   ]
  },
  {
   "cell_type": "markdown",
   "id": "d6df41e6",
   "metadata": {},
   "source": [
    "# 6. Python program to swap two elements in a list."
   ]
  },
  {
   "cell_type": "code",
   "execution_count": 11,
   "id": "6b318d49",
   "metadata": {},
   "outputs": [
    {
     "name": "stdout",
     "output_type": "stream",
     "text": [
      "Original list is ['hey', 586, False, 'orange', 5.55]\n",
      "Swapped list is ['hey', 586, 5.55, 'orange', False]\n"
     ]
    }
   ],
   "source": [
    "#Note that indexes starting from 0 are considered in the list\n",
    "\n",
    "def swap_list(list1,pos1,pos2):\n",
    "    \n",
    "    list1[pos1],list1[pos2]=list1[pos2],list1[pos1]\n",
    "    return list1\n",
    "\n",
    "new_list=[\"hey\",586,False,\"orange\",5.55]\n",
    "\n",
    "print(\"Original list is\",new_list)\n",
    "\n",
    "print(\"Swapped list is\",swap_list(new_list,2,4))\n"
   ]
  },
  {
   "cell_type": "code",
   "execution_count": 12,
   "id": "a5d4f25a",
   "metadata": {},
   "outputs": [
    {
     "name": "stdout",
     "output_type": "stream",
     "text": [
      "Original list is ['hey', 586, False, 'orange', 5.55]\n",
      "Swapped list is ['hey', 586, 5.55, 'orange', False]\n"
     ]
    }
   ],
   "source": [
    "#using pop() method\n",
    "#Note that indexes starting from 0 are considered in the list\n",
    "\n",
    "def swap_list(list1,pos1,pos2):\n",
    "    \n",
    "    first=list1.pop(pos1)\n",
    "    second=list1.pop(pos2-1)\n",
    "    \n",
    "    list1.insert(pos1,second)\n",
    "    list1.insert(pos2,first)\n",
    "    \n",
    "    return list1\n",
    "\n",
    "new_list=[\"hey\",586,False,\"orange\",5.55]\n",
    "\n",
    "pos1,pos2 = 2,4   #specify indexes\n",
    "\n",
    "print(\"Original list is\",new_list)\n",
    "\n",
    "print(\"Swapped list is\",swap_list(new_list,pos1,pos2))\n",
    "\n",
    "#In case of using positions(starting from 1) the last print statement can be replaced as\n",
    "\n",
    "#print(\"Swapped list is\",swap_list(new_list,pos1-1,pos2-1))"
   ]
  },
  {
   "cell_type": "code",
   "execution_count": 13,
   "id": "6b97b637",
   "metadata": {},
   "outputs": [
    {
     "name": "stdout",
     "output_type": "stream",
     "text": [
      "The values inside the list are:  ['hey', 586, False, 'orange', 5.55]\n",
      "The list with swapped elements is:  ['hey', 586, 5.55, 'orange', False]\n"
     ]
    }
   ],
   "source": [
    "#storing value in a third variable\n",
    "\n",
    "def swap_list(list1, pos1, pos2):  \n",
    "\n",
    "#storing the elements  \n",
    "    val = list1[pos1], list1[pos2]  \n",
    "    list1[pos2], list1[pos1] = val  \n",
    "    return list1  \n",
    "\n",
    "\n",
    "new_list=[\"hey\",586,False,\"orange\",5.55] \n",
    "\n",
    "print(\"The values inside the list are: \", new_list)  \n",
    "  \n",
    "pos1, pos2 = 2,4  #specifying theindexes\n",
    " \n",
    "print(\"The list with swapped elements is: \", swap_list(new_list, pos1, pos2))  \n",
    "\n",
    "#In case of using positions(starting from 1) the last print statement can be replaced as\n",
    "#print(\"The list with swapped elements is: \", swap_list(new_list, pos1-1, pos2-1)) "
   ]
  },
  {
   "cell_type": "markdown",
   "id": "d6c46e60",
   "metadata": {},
   "source": [
    "# 7. Python program to Reverse a List."
   ]
  },
  {
   "cell_type": "code",
   "execution_count": 14,
   "id": "dfc94687",
   "metadata": {},
   "outputs": [
    {
     "name": "stdout",
     "output_type": "stream",
     "text": [
      "Original list is : ['hey', 586, False, 'orange', 5.55]\n",
      "Reversed list is : [5.55, 'orange', False, 586, 'hey']\n"
     ]
    }
   ],
   "source": [
    "#using inbuilt function reverse()\n",
    "\n",
    "list1=[\"hey\",586,False,\"orange\",5.55] \n",
    "print(\"Original list is :\", list1) \n",
    "\n",
    "list1.reverse()\n",
    "print(\"Reversed list is :\",list1)"
   ]
  },
  {
   "cell_type": "code",
   "execution_count": 15,
   "id": "5492d886",
   "metadata": {},
   "outputs": [
    {
     "name": "stdout",
     "output_type": "stream",
     "text": [
      "Original list is : ['hey', 586, False, 'orange', 5.55]\n",
      "Reversed list is : [5.55, 'orange', False, 586, 'hey']\n"
     ]
    }
   ],
   "source": [
    "#using slicing method\n",
    "\n",
    "list1=[\"hey\",586,False,\"orange\",5.55] \n",
    "print(\"Original list is :\", list1) \n",
    "\n",
    "new_list=list1[::-1]\n",
    "print(\"Reversed list is :\",new_list)"
   ]
  },
  {
   "cell_type": "code",
   "execution_count": 16,
   "id": "f2c83abb",
   "metadata": {},
   "outputs": [
    {
     "name": "stdout",
     "output_type": "stream",
     "text": [
      "Original list is : ['hey', 586, False, 'orange', 5.55]\n",
      "Reversed list is : [5.55, 'orange', False, 586, 'hey']\n"
     ]
    }
   ],
   "source": [
    "#using insert()\n",
    "\n",
    "list1=[\"hey\",586,False,\"orange\",5.55] \n",
    "new_list=[]\n",
    "\n",
    "for i in list1:\n",
    "    new_list.insert(0,i)\n",
    "\n",
    "print(\"Original list is :\", list1)    \n",
    "print(\"Reversed list is :\",new_list)"
   ]
  },
  {
   "cell_type": "code",
   "execution_count": 17,
   "id": "20df7608",
   "metadata": {},
   "outputs": [
    {
     "name": "stdout",
     "output_type": "stream",
     "text": [
      "Original list is : ['hey', 586, False, 'orange', 5.55]\n",
      "Reversed list is : [5.55, 'orange', False, 586, 'hey']\n"
     ]
    }
   ],
   "source": [
    "#using list comprehension\n",
    "\n",
    "list1=[\"hey\",586,False,\"orange\",5.55] \n",
    "\n",
    "new_list = [list1[i] for i in range(len(list1) - 1, -1, -1)]  #here range starts from 4 goes to 0 in a step of -1\n",
    "\n",
    "print(\"Original list is :\", list1)\n",
    "print(\"Reversed list is :\", new_list)\n"
   ]
  },
  {
   "cell_type": "markdown",
   "id": "f30cfcdf",
   "metadata": {},
   "source": [
    "# 8. Python program to count occurrences of an element in a list."
   ]
  },
  {
   "cell_type": "code",
   "execution_count": 18,
   "id": "af00a702",
   "metadata": {},
   "outputs": [
    {
     "name": "stdout",
     "output_type": "stream",
     "text": [
      "6 has occured 2 times in the list.\n"
     ]
    }
   ],
   "source": [
    "#using inbuilt function count()\n",
    "\n",
    "list1=[5,6,9,8,5,5,6,7,8,8,9] \n",
    "\n",
    "x=6           #assigning to a variable\n",
    "count=list1.count(x)\n",
    "\n",
    "print(\"{} has occured {} times in the list.\".format(x,count))"
   ]
  },
  {
   "cell_type": "code",
   "execution_count": 19,
   "id": "e5e0a04c",
   "metadata": {},
   "outputs": [
    {
     "name": "stdout",
     "output_type": "stream",
     "text": [
      "9 has occured 2 times in the list.\n"
     ]
    }
   ],
   "source": [
    "#using list comprehension\n",
    "\n",
    "list1=[5,6,9,8,5,5,6,7,8,8,9] \n",
    "\n",
    "x=9\n",
    "val=[i for i in list1 if x==i]\n",
    "count=len(val)\n",
    "\n",
    "print(\"{} has occured {} times in the list.\".format(x,count))"
   ]
  },
  {
   "cell_type": "code",
   "execution_count": 20,
   "id": "966f62a8",
   "metadata": {},
   "outputs": [
    {
     "name": "stdout",
     "output_type": "stream",
     "text": [
      "6 has occured 2 times in the list.\n",
      "8 has occured 3 times in the list.\n"
     ]
    }
   ],
   "source": [
    "#using loop\n",
    "\n",
    "list1=[5,6,9,8,5,5,6,7,8,8,9] \n",
    "\n",
    "x=6 #assigning a variable\n",
    "\n",
    "count=0  #initializing count of element\n",
    "\n",
    "for i in list1:\n",
    "    if x == i:\n",
    "        count=count+1\n",
    "print(\"{} has occured {} times in the list.\".format(x,count))\n",
    "     \n",
    "#using function\n",
    "\n",
    "x=8\n",
    "def count_ele(x):\n",
    "    \n",
    "    count=0  #initializing count of element\n",
    "\n",
    "    for i in list1:\n",
    "        if x == i:\n",
    "            count=count+1\n",
    "    return count\n",
    "\n",
    "print(\"{} has occured {} times in the list.\".format(x,count_ele(x)))\n",
    " \n",
    "#To directly call the function we may use :    \n",
    "#count_ele(9)\n"
   ]
  },
  {
   "cell_type": "markdown",
   "id": "25e2e1f2",
   "metadata": {},
   "source": [
    "# 9. Python program to find the sum of elements in a list."
   ]
  },
  {
   "cell_type": "code",
   "execution_count": 21,
   "id": "95d57975",
   "metadata": {},
   "outputs": [
    {
     "name": "stdout",
     "output_type": "stream",
     "text": [
      "The sum of all elements in given list is 76\n"
     ]
    }
   ],
   "source": [
    "#using inbuilt function sum()\n",
    "list1=[5,6,9,8,5,5,6,7,8,8,9] \n",
    "total=sum(list1)\n",
    "print(\"The sum of all elements in given list is\",total)\n"
   ]
  },
  {
   "cell_type": "code",
   "execution_count": 22,
   "id": "031faf3f",
   "metadata": {},
   "outputs": [
    {
     "name": "stdout",
     "output_type": "stream",
     "text": [
      "The sum of all elements in given list is 76\n"
     ]
    }
   ],
   "source": [
    "#using list comprehension\n",
    "list1=[5,6,9,8,5,5,6,7,8,8,9] \n",
    "total=[i for i in list1]\n",
    "total_sum=sum(list1)\n",
    "\n",
    "print(\"The sum of all elements in given list is\",total_sum)"
   ]
  },
  {
   "cell_type": "code",
   "execution_count": 23,
   "id": "d5aebb39",
   "metadata": {},
   "outputs": [
    {
     "name": "stdout",
     "output_type": "stream",
     "text": [
      "The sum of all elements in given list is 76\n"
     ]
    }
   ],
   "source": [
    "#using for loop\n",
    "list1=[5,6,9,8,5,5,6,7,8,8,9] \n",
    "\n",
    "sum=0\n",
    "for i in range(len(list1)):\n",
    "    sum=sum+list1[i]\n",
    "    \n",
    "print(\"The sum of all elements in given list is\",sum)\n"
   ]
  },
  {
   "cell_type": "code",
   "execution_count": 24,
   "id": "91742248",
   "metadata": {},
   "outputs": [
    {
     "name": "stdout",
     "output_type": "stream",
     "text": [
      "The sum of all elements in given list is 76\n"
     ]
    }
   ],
   "source": [
    "#using while loop\n",
    "list1=[5,6,9,8,5,5,6,7,8,8,9] \n",
    "total=0\n",
    "i=0\n",
    "\n",
    "while i < len(list1):\n",
    "  total=total+list1[i]\n",
    "  i=i+1\n",
    "\n",
    "print(\"The sum of all elements in given list is\",total)"
   ]
  },
  {
   "cell_type": "markdown",
   "id": "a192b14b",
   "metadata": {},
   "source": [
    "# 10. Python program to Multiply all numbers in the list."
   ]
  },
  {
   "cell_type": "code",
   "execution_count": 25,
   "id": "c2a64ab5",
   "metadata": {},
   "outputs": [
    {
     "name": "stdout",
     "output_type": "stream",
     "text": [
      "Product is 12\n"
     ]
    }
   ],
   "source": [
    "list1=[2,2,3]\n",
    "\n",
    "def mul_num(mylist):\n",
    "    mul=1\n",
    "    for i in list1:\n",
    "        mul=mul*i\n",
    "    return mul\n",
    "\n",
    "val=mul_num(list1)\n",
    "    \n",
    "print(\"Product is\",val)"
   ]
  },
  {
   "cell_type": "code",
   "execution_count": 26,
   "id": "bfa5114d",
   "metadata": {},
   "outputs": [
    {
     "name": "stdout",
     "output_type": "stream",
     "text": [
      "Product is 12\n"
     ]
    }
   ],
   "source": [
    "from math import prod\n",
    "\n",
    "list1=[2,2,3]\n",
    "mul=prod(list1)\n",
    "print(\"Product is\",mul)"
   ]
  },
  {
   "cell_type": "markdown",
   "id": "893a5877",
   "metadata": {},
   "source": [
    "# 11. What are the ways to find the length of a list?"
   ]
  },
  {
   "cell_type": "code",
   "execution_count": 27,
   "id": "198ffce7",
   "metadata": {},
   "outputs": [
    {
     "name": "stdout",
     "output_type": "stream",
     "text": [
      "Length of given list is 11\n"
     ]
    }
   ],
   "source": [
    "#using inbuilt function len()\n",
    "\n",
    "list1=[5,6,9,8,5,5,6,7,8,8,9]\n",
    "length=len(list1)\n",
    "print(\"Length of given list is\",length)"
   ]
  },
  {
   "cell_type": "code",
   "execution_count": 28,
   "id": "9769389a",
   "metadata": {},
   "outputs": [
    {
     "name": "stdout",
     "output_type": "stream",
     "text": [
      "The length of list is 11\n"
     ]
    }
   ],
   "source": [
    "#using loop\n",
    "\n",
    "list1=[5,6,9,8,5,5,6,7,8,8,9]\n",
    "\n",
    "length=0\n",
    "for i in list1:\n",
    "    length=length+1\n",
    "    \n",
    "print(\"The length of list is\",length)"
   ]
  },
  {
   "cell_type": "code",
   "execution_count": null,
   "id": "b86a2b07",
   "metadata": {},
   "outputs": [
    {
     "name": "stdout",
     "output_type": "stream",
     "text": [
      "The length of list is 11\n"
     ]
    }
   ],
   "source": [
    "#using list comprehension\n",
    "\n",
    "list1=[5,6,9,8,5,5,6,7,8,8,9]\n",
    "length=sum([1 for i in list1])\n",
    "print(\"The length of list is\",length)"
   ]
  },
  {
   "cell_type": "markdown",
   "id": "e648bb20",
   "metadata": {},
   "source": [
    "# 12. Python program to find the smallest and largest number in a list (Without min-max function.)"
   ]
  },
  {
   "cell_type": "code",
   "execution_count": 8,
   "id": "c9e77ee4",
   "metadata": {},
   "outputs": [
    {
     "name": "stdout",
     "output_type": "stream",
     "text": [
      "Smallest number in the list is 2\n",
      "Largest number in the list is 55\n"
     ]
    }
   ],
   "source": [
    "#using sort() function\n",
    "\n",
    "list1=[55,2,44,6,7]\n",
    "\n",
    "list1.sort()\n",
    "\n",
    "print(\"Smallest number in the list is\",list1[0])\n",
    "print(\"Largest number in the list is\",list1[-1])"
   ]
  },
  {
   "cell_type": "code",
   "execution_count": 9,
   "id": "e10ffff8",
   "metadata": {},
   "outputs": [
    {
     "name": "stdout",
     "output_type": "stream",
     "text": [
      "Smallest number in the list is 2\n",
      "Largest number in the list is 55\n"
     ]
    }
   ],
   "source": [
    "def min_max(list1):\n",
    "    smallest = largest = list1[0]\n",
    "    for num in list1[1:]:  # Iterate starting from the second element\n",
    "        if num < smallest:\n",
    "            smallest = num  # Update smallest if current number is smaller\n",
    "        elif num > largest:\n",
    "            largest = num  # Update largest if current number is larger\n",
    "    \n",
    "    return smallest, largest\n",
    "\n",
    "list2=[55,2,44,6,7]\n",
    "\n",
    "smallest, largest=min_max(list2)\n",
    "\n",
    "print(\"Smallest number in the list is\",smallest)\n",
    "print(\"Largest number in the list is\",largest)"
   ]
  },
  {
   "cell_type": "markdown",
   "id": "0fc045b4",
   "metadata": {},
   "source": [
    "# 13. Python Program to find the area of a circle."
   ]
  },
  {
   "cell_type": "code",
   "execution_count": 10,
   "id": "508f4ea1",
   "metadata": {},
   "outputs": [
    {
     "name": "stdout",
     "output_type": "stream",
     "text": [
      "Enter radius: 3\n",
      "Area is 28.278\n"
     ]
    }
   ],
   "source": [
    "r=float(input(\"Enter radius: \"))\n",
    "def findArea(r):\n",
    "    pi = 3.142\n",
    "    return pi * (r*r)\n",
    " \n",
    "print(\"Area is\",findArea(r))"
   ]
  },
  {
   "cell_type": "code",
   "execution_count": 11,
   "id": "845c964b",
   "metadata": {},
   "outputs": [
    {
     "name": "stdout",
     "output_type": "stream",
     "text": [
      "Enter radius: 6\n",
      "Area is 113.112\n"
     ]
    }
   ],
   "source": [
    "r=float(input(\"Enter radius: \"))\n",
    "area=3.142*r**2\n",
    "print(\"Area is\",area)"
   ]
  },
  {
   "cell_type": "markdown",
   "id": "e3405c33",
   "metadata": {},
   "source": [
    "# 14. Take inputs from the user to make a list. Again, take one input from the user and search it in the list and delete that element, if found. Iterate over a list using for loop.\n"
   ]
  },
  {
   "cell_type": "code",
   "execution_count": 12,
   "id": "4af7786f",
   "metadata": {},
   "outputs": [
    {
     "name": "stdout",
     "output_type": "stream",
     "text": [
      "How many elements are to be entered in the list? 4\n",
      "Enter element in list: 55\n",
      "Enter element in list: 33\n",
      "Enter element in list: 22\n",
      "Enter element in list: 11\n",
      "Given list is ['55', '33', '22', '11']\n",
      "Enter element to search and delete: 11\n",
      "11 has been deleted from the list.\n",
      "Updated list: ['55', '33', '22']\n"
     ]
    }
   ],
   "source": [
    "def find_del():\n",
    "    num = int(input(\"How many elements are to be entered in the list? \"))\n",
    "    list1 = []\n",
    "\n",
    "    for i in range(1, num + 1):\n",
    "        ele = input(\"Enter element in list: \")\n",
    "        list1.append(ele)\n",
    "    print(\"Given list is\",list1)\n",
    "    \n",
    "    search = input(\"Enter element to search and delete: \")\n",
    "    if search in list1:\n",
    "        list1.remove(search)\n",
    "        print(f\"{search} has been deleted from the list.\")\n",
    "    else:\n",
    "        print(\"Element not found\")\n",
    "\n",
    "    print(\"Updated list:\", list1)\n",
    "\n",
    "\n",
    "\n",
    "find_del()"
   ]
  },
  {
   "cell_type": "markdown",
   "id": "950d1357",
   "metadata": {},
   "source": [
    "# 15.You are given a list of integer elements. Make a new list that will store a square of elements of the previous list. (With and without list comprehension)\n",
    "# i. Input_list = [2,5,6,12] ii. Output_list = [4,25,36,144\n"
   ]
  },
  {
   "cell_type": "code",
   "execution_count": 13,
   "id": "bc3b7f23",
   "metadata": {},
   "outputs": [
    {
     "name": "stdout",
     "output_type": "stream",
     "text": [
      "Output_list: [4, 25, 36, 144]\n"
     ]
    }
   ],
   "source": [
    "#without list comprehension\n",
    "\n",
    "input_list = [2, 5, 6, 12]\n",
    "output_list = []\n",
    "\n",
    "for num in input_list:\n",
    "    output_list.append(num ** 2)\n",
    "\n",
    "print(\"Output_list:\", output_list)\n"
   ]
  },
  {
   "cell_type": "code",
   "execution_count": 14,
   "id": "504088f2",
   "metadata": {},
   "outputs": [
    {
     "name": "stdout",
     "output_type": "stream",
     "text": [
      "Output_list: [4, 25, 36, 144]\n"
     ]
    }
   ],
   "source": [
    "#with list comprehension\n",
    "\n",
    "input_list = [2, 5, 6, 12]\n",
    "output_list = [num ** 2 for num in input_list]\n",
    "\n",
    "print(\"Output_list:\", output_list)\n"
   ]
  },
  {
   "cell_type": "markdown",
   "id": "9fe1a533",
   "metadata": {},
   "source": [
    "# 16. WAP to create two lists, one containing all even numbers and the other containing all odd numbers between 0 to 151."
   ]
  },
  {
   "cell_type": "code",
   "execution_count": 15,
   "id": "4575fd88",
   "metadata": {},
   "outputs": [
    {
     "name": "stdout",
     "output_type": "stream",
     "text": [
      "List of even numbers between 0 to 151: [0, 2, 4, 6, 8, 10, 12, 14, 16, 18, 20, 22, 24, 26, 28, 30, 32, 34, 36, 38, 40, 42, 44, 46, 48, 50, 52, 54, 56, 58, 60, 62, 64, 66, 68, 70, 72, 74, 76, 78, 80, 82, 84, 86, 88, 90, 92, 94, 96, 98, 100, 102, 104, 106, 108, 110, 112, 114, 116, 118, 120, 122, 124, 126, 128, 130, 132, 134, 136, 138, 140, 142, 144, 146, 148, 150]\n",
      "List of odd numbers between 0 to 151: [1, 3, 5, 7, 9, 11, 13, 15, 17, 19, 21, 23, 25, 27, 29, 31, 33, 35, 37, 39, 41, 43, 45, 47, 49, 51, 53, 55, 57, 59, 61, 63, 65, 67, 69, 71, 73, 75, 77, 79, 81, 83, 85, 87, 89, 91, 93, 95, 97, 99, 101, 103, 105, 107, 109, 111, 113, 115, 117, 119, 121, 123, 125, 127, 129, 131, 133, 135, 137, 139, 141, 143, 145, 147, 149, 151]\n"
     ]
    }
   ],
   "source": [
    "#using list comprehension\n",
    "\n",
    "even_numbers = [num for num in range(0, 152) if num % 2 == 0]\n",
    "odd_numbers = [num for num in range(0, 152) if num % 2 != 0]\n",
    "\n",
    "\n",
    "print(\"List of even numbers between 0 to 151:\", even_numbers)\n",
    "print(\"List of odd numbers between 0 to 151:\", odd_numbers)\n"
   ]
  },
  {
   "cell_type": "code",
   "execution_count": 16,
   "id": "afb5c14a",
   "metadata": {},
   "outputs": [
    {
     "name": "stdout",
     "output_type": "stream",
     "text": [
      "List of even numbers between 0 to 151: [0, 2, 4, 6, 8, 10, 12, 14, 16, 18, 20, 22, 24, 26, 28, 30, 32, 34, 36, 38, 40, 42, 44, 46, 48, 50, 52, 54, 56, 58, 60, 62, 64, 66, 68, 70, 72, 74, 76, 78, 80, 82, 84, 86, 88, 90, 92, 94, 96, 98, 100, 102, 104, 106, 108, 110, 112, 114, 116, 118, 120, 122, 124, 126, 128, 130, 132, 134, 136, 138, 140, 142, 144, 146, 148, 150]\n",
      "List of odd numbers between 0 to 151: [1, 3, 5, 7, 9, 11, 13, 15, 17, 19, 21, 23, 25, 27, 29, 31, 33, 35, 37, 39, 41, 43, 45, 47, 49, 51, 53, 55, 57, 59, 61, 63, 65, 67, 69, 71, 73, 75, 77, 79, 81, 83, 85, 87, 89, 91, 93, 95, 97, 99, 101, 103, 105, 107, 109, 111, 113, 115, 117, 119, 121, 123, 125, 127, 129, 131, 133, 135, 137, 139, 141, 143, 145, 147, 149, 151]\n"
     ]
    }
   ],
   "source": [
    "#using loop\n",
    "\n",
    "even_numbers = []\n",
    "odd_numbers = []\n",
    "\n",
    "\n",
    "for num in range(0, 152):\n",
    "    \n",
    "    if num % 2 == 0:\n",
    "        even_numbers.append(num)\n",
    "    else:\n",
    "        odd_numbers.append(num)\n",
    "\n",
    "print(\"List of even numbers between 0 to 151:\", even_numbers)\n",
    "print(\"List of odd numbers between 0 to 151:\", odd_numbers)"
   ]
  },
  {
   "cell_type": "markdown",
   "id": "162145eb",
   "metadata": {},
   "source": [
    "# 17. Python program to Count Even and Odd numbers in a List."
   ]
  },
  {
   "cell_type": "code",
   "execution_count": 17,
   "id": "9690fc59",
   "metadata": {},
   "outputs": [
    {
     "name": "stdout",
     "output_type": "stream",
     "text": [
      "Number of even numbers: 4\n",
      "Number of odd numbers: 5\n"
     ]
    }
   ],
   "source": [
    "def count_even_odd(numbers):\n",
    "    \n",
    "    even_count = 0\n",
    "    odd_count = 0\n",
    "\n",
    "    for num in numbers:\n",
    "        if num % 2 == 0:\n",
    "            even_count += 1\n",
    "        else:\n",
    "            odd_count += 1\n",
    "\n",
    "    return even_count, odd_count\n",
    "\n",
    "\n",
    "list1 = [1, 2, 3, 4, 5, 6, 7, 8, 9]\n",
    "\n",
    "even, odd = count_even_odd(list1) #calling function and unpacking the list\n",
    "\n",
    "\n",
    "print(\"Number of even numbers:\", even)\n",
    "print(\"Number of odd numbers:\", odd)\n"
   ]
  },
  {
   "cell_type": "code",
   "execution_count": 18,
   "id": "0f9468fe",
   "metadata": {},
   "outputs": [
    {
     "name": "stdout",
     "output_type": "stream",
     "text": [
      "Number of even numbers: 4\n",
      "Number of odd numbers: 5\n"
     ]
    }
   ],
   "source": [
    "#using list comprehension\n",
    "\n",
    "def count_even_odd(numbers):\n",
    "    # Use list comprehension to create a list of True for even numbers and False for odd numbers\n",
    "    even_nums = [num % 2 == 0 for num in numbers]\n",
    "\n",
    "    # Count the number of True (even numbers) and False (odd numbers)\n",
    "    even_count = sum(even_nums)\n",
    "    odd_count = len(numbers) - even_count\n",
    "\n",
    "    return even_count, odd_count\n",
    "\n",
    "\n",
    "list1 = [1, 2, 3, 4, 5, 6, 7, 8, 9]\n",
    "\n",
    "# Call the function and unpack the results\n",
    "even, odd = count_even_odd(list1)\n",
    "\n",
    "\n",
    "print(\"Number of even numbers:\", even)\n",
    "print(\"Number of odd numbers:\", odd)\n"
   ]
  },
  {
   "cell_type": "markdown",
   "id": "ba5efd4c",
   "metadata": {},
   "source": [
    "# 18. WAP to make new lists, containing only numbers which are divisible by 4, 6, 8, 10, 3, 5, 7, and 9 in separate lists for range(0,151)"
   ]
  },
  {
   "cell_type": "code",
   "execution_count": 19,
   "id": "0fc85eaa",
   "metadata": {},
   "outputs": [
    {
     "name": "stdout",
     "output_type": "stream",
     "text": [
      "Numbers divisible by 4: [0, 4, 8, 12, 16, 20, 24, 28, 32, 36, 40, 44, 48, 52, 56, 60, 64, 68, 72, 76, 80, 84, 88, 92, 96, 100, 104, 108, 112, 116, 120, 124, 128, 132, 136, 140, 144, 148]\n",
      "Numbers divisible by 6: [0, 6, 12, 18, 24, 30, 36, 42, 48, 54, 60, 66, 72, 78, 84, 90, 96, 102, 108, 114, 120, 126, 132, 138, 144, 150]\n",
      "Numbers divisible by 8: [0, 8, 16, 24, 32, 40, 48, 56, 64, 72, 80, 88, 96, 104, 112, 120, 128, 136, 144]\n",
      "Numbers divisible by 10: [0, 10, 20, 30, 40, 50, 60, 70, 80, 90, 100, 110, 120, 130, 140, 150]\n",
      "Numbers divisible by 3: [0, 3, 6, 9, 12, 15, 18, 21, 24, 27, 30, 33, 36, 39, 42, 45, 48, 51, 54, 57, 60, 63, 66, 69, 72, 75, 78, 81, 84, 87, 90, 93, 96, 99, 102, 105, 108, 111, 114, 117, 120, 123, 126, 129, 132, 135, 138, 141, 144, 147, 150]\n",
      "Numbers divisible by 5: [0, 5, 10, 15, 20, 25, 30, 35, 40, 45, 50, 55, 60, 65, 70, 75, 80, 85, 90, 95, 100, 105, 110, 115, 120, 125, 130, 135, 140, 145, 150]\n",
      "Numbers divisible by 7: [0, 7, 14, 21, 28, 35, 42, 49, 56, 63, 70, 77, 84, 91, 98, 105, 112, 119, 126, 133, 140, 147]\n",
      "Numbers divisible by 9: [0, 9, 18, 27, 36, 45, 54, 63, 72, 81, 90, 99, 108, 117, 126, 135, 144]\n"
     ]
    }
   ],
   "source": [
    "def divisible_numbers(range_start, range_end):\n",
    "    \n",
    "    div_by_4 = []\n",
    "    div_by_6 = []\n",
    "    div_by_8 = []\n",
    "    div_by_10 = []\n",
    "    div_by_3 = []\n",
    "    div_by_5 = []\n",
    "    div_by_7 = []\n",
    "    div_by_9 = []\n",
    "\n",
    "    # Iterate through the range and append numbers to respective lists based on divisibility\n",
    "    for num in range(0, 151):\n",
    "        if num % 4 == 0:\n",
    "            div_by_4.append(num)\n",
    "        if num % 6 == 0:\n",
    "            div_by_6.append(num)\n",
    "        if num % 8 == 0:\n",
    "            div_by_8.append(num)\n",
    "        if num % 10 == 0:\n",
    "            div_by_10.append(num)\n",
    "        if num % 3 == 0:\n",
    "            div_by_3.append(num)\n",
    "        if num % 5 == 0:\n",
    "            div_by_5.append(num)\n",
    "        if num % 7 == 0:\n",
    "            div_by_7.append(num)\n",
    "        if num % 9 == 0:\n",
    "            div_by_9.append(num)\n",
    "\n",
    "    return (div_by_4, div_by_6, div_by_8, div_by_10, \n",
    "            div_by_3, div_by_5, div_by_7, div_by_9)\n",
    "\n",
    "# Call the function and unpack the lists\n",
    "divisible_lists = divisible_numbers(0,151)\n",
    "\n",
    "# Print the lists\n",
    "print(\"Numbers divisible by 4:\", divisible_lists[0])\n",
    "print(\"Numbers divisible by 6:\", divisible_lists[1])\n",
    "print(\"Numbers divisible by 8:\", divisible_lists[2])\n",
    "print(\"Numbers divisible by 10:\", divisible_lists[3])\n",
    "print(\"Numbers divisible by 3:\", divisible_lists[4])\n",
    "print(\"Numbers divisible by 5:\", divisible_lists[5])\n",
    "print(\"Numbers divisible by 7:\", divisible_lists[6])\n",
    "print(\"Numbers divisible by 9:\", divisible_lists[7])\n"
   ]
  },
  {
   "cell_type": "code",
   "execution_count": 20,
   "id": "c410f4f1",
   "metadata": {},
   "outputs": [
    {
     "name": "stdout",
     "output_type": "stream",
     "text": [
      "Numbers divisible by 4: [0, 4, 8, 12, 16, 20, 24, 28, 32, 36, 40, 44, 48, 52, 56, 60, 64, 68, 72, 76, 80, 84, 88, 92, 96, 100, 104, 108, 112, 116, 120, 124, 128, 132, 136, 140, 144, 148]\n",
      "Numbers divisible by 6: [0, 6, 12, 18, 24, 30, 36, 42, 48, 54, 60, 66, 72, 78, 84, 90, 96, 102, 108, 114, 120, 126, 132, 138, 144, 150]\n",
      "Numbers divisible by 8: [0, 8, 16, 24, 32, 40, 48, 56, 64, 72, 80, 88, 96, 104, 112, 120, 128, 136, 144]\n",
      "Numbers divisible by 10: [0, 10, 20, 30, 40, 50, 60, 70, 80, 90, 100, 110, 120, 130, 140, 150]\n",
      "Numbers divisible by 3: [0, 3, 6, 9, 12, 15, 18, 21, 24, 27, 30, 33, 36, 39, 42, 45, 48, 51, 54, 57, 60, 63, 66, 69, 72, 75, 78, 81, 84, 87, 90, 93, 96, 99, 102, 105, 108, 111, 114, 117, 120, 123, 126, 129, 132, 135, 138, 141, 144, 147, 150]\n",
      "Numbers divisible by 5: [0, 5, 10, 15, 20, 25, 30, 35, 40, 45, 50, 55, 60, 65, 70, 75, 80, 85, 90, 95, 100, 105, 110, 115, 120, 125, 130, 135, 140, 145, 150]\n",
      "Numbers divisible by 7: [0, 7, 14, 21, 28, 35, 42, 49, 56, 63, 70, 77, 84, 91, 98, 105, 112, 119, 126, 133, 140, 147]\n",
      "Numbers divisible by 9: [0, 9, 18, 27, 36, 45, 54, 63, 72, 81, 90, 99, 108, 117, 126, 135, 144]\n"
     ]
    }
   ],
   "source": [
    "#using list comprehension\n",
    "\n",
    "def divisible_numbers(range_start, range_end):\n",
    "    # Define divisors\n",
    "    divisors = [4, 6, 8, 10, 3, 5, 7, 9]\n",
    "\n",
    "    # Generate lists for each divisor using list comprehension\n",
    "    divisible_lists = {divisor: [num for num in range(0,151) if num % divisor == 0] for divisor in divisors}\n",
    "\n",
    "    return divisible_lists\n",
    "\n",
    "\n",
    "# Call the function to get the dictionary of divisible numbers\n",
    "divisible_lists = divisible_numbers(0,151)\n",
    "\n",
    "# Print the lists for each divisor\n",
    "for divisor, numbers_list in divisible_lists.items():\n",
    "    print(f\"Numbers divisible by {divisor}: {numbers_list}\")\n"
   ]
  },
  {
   "cell_type": "markdown",
   "id": "b9ad9058",
   "metadata": {},
   "source": [
    "# 19. Form a list containing ints, strings, and floats, make three lists to store them separately."
   ]
  },
  {
   "cell_type": "code",
   "execution_count": 21,
   "id": "2d3a3ebc",
   "metadata": {},
   "outputs": [
    {
     "name": "stdout",
     "output_type": "stream",
     "text": [
      "Integers: [1, 3, 5]\n",
      "Floats: [2.5, 4.75]\n",
      "Strings: ['apple', 'banana', 'orange']\n"
     ]
    }
   ],
   "source": [
    "list1 = [1, 2.5, \"apple\", 3, \"banana\", 4.75, \"orange\", 5]\n",
    "\n",
    "int_list = []\n",
    "float_list = []\n",
    "str_list = []\n",
    "\n",
    "for item in list1:\n",
    "    if type(item) == int:\n",
    "        int_list.append(item)\n",
    "    elif type(item) == float:\n",
    "        float_list.append(item)\n",
    "    elif type(item) == str:\n",
    "        str_list.append(item)\n",
    "\n",
    "print(\"Integers:\", int_list)\n",
    "print(\"Floats:\", float_list)\n",
    "print(\"Strings:\", str_list)\n"
   ]
  },
  {
   "cell_type": "code",
   "execution_count": 22,
   "id": "4e4b2e54",
   "metadata": {},
   "outputs": [
    {
     "name": "stdout",
     "output_type": "stream",
     "text": [
      "Integers: [1, 3, 5]\n",
      "Floats: [2.5, 4.75]\n",
      "Strings: ['apple', 'banana', 'orange']\n"
     ]
    }
   ],
   "source": [
    "#using list comprehension\n",
    "\n",
    "list1 = [1, 2.5, \"apple\", 3, \"banana\", 4.75, \"orange\", 5]\n",
    "\n",
    "int_list = [i for i in list1 if type(i)==int]\n",
    "float_list = [i for i in list1 if type(i)==float]\n",
    "str_list = [i for i in list1 if type(i)==str]\n",
    "\n",
    "print(\"Integers:\", int_list)\n",
    "print(\"Floats:\", float_list)\n",
    "print(\"Strings:\", str_list)\n"
   ]
  },
  {
   "cell_type": "markdown",
   "id": "bc86269c",
   "metadata": {},
   "source": [
    "# 20. What’s The Difference Between The Python append() and extend() Methods?"
   ]
  },
  {
   "cell_type": "markdown",
   "id": "48f2925e",
   "metadata": {},
   "source": [
    "* append() adds a single element (or a list as a single element) to the end of the list.\n",
    "* extend() adds each element from lists,tuples,dictionaries,etc to the end of the list individually, effectively extending the list."
   ]
  },
  {
   "cell_type": "markdown",
   "id": "ef580ffe",
   "metadata": {},
   "source": [
    "# 21. Write a Python program to append a list to the second list."
   ]
  },
  {
   "cell_type": "code",
   "execution_count": 23,
   "id": "45617657",
   "metadata": {},
   "outputs": [
    {
     "name": "stdout",
     "output_type": "stream",
     "text": [
      "Appended list is [2, 3, 6, 5, 4, 6, 3, 4, 5]\n"
     ]
    }
   ],
   "source": [
    "#using extend\n",
    "\n",
    "list1=[2,3,6,5,4]\n",
    "list2=[6,3,4,5]\n",
    "list1.extend(list2)\n",
    "print(\"Appended list is\",list1)"
   ]
  },
  {
   "cell_type": "code",
   "execution_count": 24,
   "id": "5a6bee29",
   "metadata": {},
   "outputs": [
    {
     "name": "stdout",
     "output_type": "stream",
     "text": [
      "Appended list is [2, 3, 6, 5, 4, 6, 3, 4, 5]\n"
     ]
    }
   ],
   "source": [
    "#using append\n",
    "\n",
    "list1=[2,3,6,5,4]\n",
    "list2=[6,3,4,5]\n",
    "for i in list2:\n",
    "    list1.append(i)\n",
    "print(\"Appended list is\",list1)"
   ]
  },
  {
   "cell_type": "code",
   "execution_count": 25,
   "id": "b2549f61",
   "metadata": {},
   "outputs": [
    {
     "name": "stdout",
     "output_type": "stream",
     "text": [
      "Appended list is [2, 3, 6, 5, 4, 6, 3, 4, 5]\n"
     ]
    }
   ],
   "source": [
    "# '+' operator\n",
    "\n",
    "list1=[2,3,6,5,4]\n",
    "list2=[6,3,4,5]\n",
    "\n",
    "list3=list1+list2\n",
    "print(\"Appended list is\",list3)"
   ]
  },
  {
   "cell_type": "markdown",
   "id": "88079146",
   "metadata": {},
   "source": [
    "# 22. Write a Python program to find the third-largest number in a list"
   ]
  },
  {
   "cell_type": "code",
   "execution_count": 26,
   "id": "185f76a6",
   "metadata": {},
   "outputs": [
    {
     "name": "stdout",
     "output_type": "stream",
     "text": [
      "[2, 3, 4, 5, 6, 6, 7, 8, 9]\n",
      "Third largest element of given list is 7\n"
     ]
    }
   ],
   "source": [
    "list1=[2,3,6,5,4,6,7,8,9]\n",
    "list1.sort()\n",
    "\n",
    "print(list1)\n",
    "print(\"Third largest element of given list is\",list1[-3])"
   ]
  },
  {
   "cell_type": "markdown",
   "id": "8d4bdf2d",
   "metadata": {},
   "source": [
    "# 23. Write a Python program to get the frequency of the elements in a list."
   ]
  },
  {
   "cell_type": "code",
   "execution_count": 27,
   "id": "e3f2f6a0",
   "metadata": {},
   "outputs": [
    {
     "name": "stdout",
     "output_type": "stream",
     "text": [
      "frequency of elements in the list is: {1: 2, 2: 2, 3: 3, 4: 2, 5: 1, 6: 2, 8: 1, 7: 1, 9: 1, 0: 2}\n"
     ]
    }
   ],
   "source": [
    "list1=[1,2,3,1,2,4,3,5,4,6,8,7,9,0,0,6,3]\n",
    "freq={}\n",
    "for i in list1:\n",
    "    if i in freq:\n",
    "        freq[i]+=1\n",
    "    else:\n",
    "        freq[i]=1\n",
    "print(\"frequency of elements in the list is:\",freq)"
   ]
  },
  {
   "cell_type": "markdown",
   "id": "8555c42a",
   "metadata": {},
   "source": [
    "# 24. Write a Python program to check whether a list contains a sublist."
   ]
  },
  {
   "cell_type": "code",
   "execution_count": 28,
   "id": "59c7d21a",
   "metadata": {},
   "outputs": [
    {
     "name": "stdout",
     "output_type": "stream",
     "text": [
      "It is a sublist\n"
     ]
    }
   ],
   "source": [
    "main_list=[1,2,3,4,5,6,7,8,9,0]\n",
    "sub_list=[2,3,4]\n",
    "\n",
    "for i in range(len(main_list)):\n",
    "    if main_list[i:i+len(sub_list)]==sub_list:\n",
    "        print(\"It is a sublist\")\n",
    "        break\n",
    "else:\n",
    "    print(\"It is not a sublist\")\n"
   ]
  },
  {
   "cell_type": "markdown",
   "id": "dbf7e87a",
   "metadata": {},
   "source": [
    "# 25. Write a Python program to generate all sublists of a list."
   ]
  },
  {
   "cell_type": "code",
   "execution_count": 29,
   "id": "b1afb392",
   "metadata": {},
   "outputs": [
    {
     "name": "stdout",
     "output_type": "stream",
     "text": [
      "[[1], [1, 2], [1, 2, 3], [1, 2, 3, 4], [1, 2, 3, 4, 5], [2], [2, 3], [2, 3, 4], [2, 3, 4, 5], [3], [3, 4], [3, 4, 5], [4], [4, 5], [5]]\n"
     ]
    }
   ],
   "source": [
    "main_list=[1,2,3,4,5]\n",
    "sublist=[]\n",
    "\n",
    "for i in range(len(main_list)):\n",
    "    for j in range (i+1,len(main_list)+1):\n",
    "        sublist.append(main_list[i:j])\n",
    "print(sublist)"
   ]
  },
  {
   "cell_type": "markdown",
   "id": "83e9f7fd",
   "metadata": {},
   "source": [
    "# 26. Write a Python program to find common items from two lists.\n"
   ]
  },
  {
   "cell_type": "code",
   "execution_count": 30,
   "id": "c0bbe9d0",
   "metadata": {},
   "outputs": [
    {
     "name": "stdout",
     "output_type": "stream",
     "text": [
      "The intersection of given list is [3, 5, 7]\n"
     ]
    }
   ],
   "source": [
    "list1=[2,4,6,8,5,7,3]\n",
    "list2=[1,3,5,7,9]\n",
    "\n",
    "s1=set(list1)\n",
    "s2=set(list2)\n",
    "\n",
    "intersec=s1.intersection(s2)\n",
    "print(\"The intersection of given list is\",list(intersec))"
   ]
  },
  {
   "cell_type": "markdown",
   "id": "02ac6ce7",
   "metadata": {},
   "source": [
    "# 27. How to flatten a list in python?"
   ]
  },
  {
   "cell_type": "code",
   "execution_count": 31,
   "id": "5e294807",
   "metadata": {},
   "outputs": [
    {
     "name": "stdout",
     "output_type": "stream",
     "text": [
      "[2, 3, 5, 6, 4]\n"
     ]
    }
   ],
   "source": [
    "list1=[[2,3],[5,6,4] ]\n",
    "\n",
    "sublist=[]\n",
    "\n",
    "for i in list1:\n",
    "    for j in i:\n",
    "        sublist.append(j)\n",
    "print(sublist)"
   ]
  },
  {
   "cell_type": "code",
   "execution_count": 32,
   "id": "3261e26b",
   "metadata": {},
   "outputs": [
    {
     "name": "stdout",
     "output_type": "stream",
     "text": [
      "The flattened list is:  [1, 2, 3, 4, 5, 6, 7, 'a', 'b']\n"
     ]
    }
   ],
   "source": [
    "#using isinstance() to find the nested lists\n",
    "\n",
    "list1=[1,2,3,[4,5],[6,7],['a','b']]\n",
    "flat=[]\n",
    "\n",
    "for i in list1:\n",
    "    if isinstance(i,list): \n",
    "        flat.extend(i)\n",
    "    else:\n",
    "        flat.append(i)\n",
    "        \n",
    "print(\"The flattened list is: \",flat)"
   ]
  },
  {
   "cell_type": "markdown",
   "id": "0a4875e8",
   "metadata": {},
   "source": [
    "# 28. How to sort a list in ascending and descending order without using the sort function?"
   ]
  },
  {
   "cell_type": "code",
   "execution_count": 33,
   "id": "dd9a480a",
   "metadata": {},
   "outputs": [
    {
     "name": "stdout",
     "output_type": "stream",
     "text": [
      "[2, 3, 4, 5, 6, 7, 8]\n"
     ]
    }
   ],
   "source": [
    "#ascending order\n",
    "\n",
    "list1=[2,4,6,8,5,7,3]\n",
    "\n",
    "for i in range(len(list1)):\n",
    "    for j in range(i+1,len(list1)):\n",
    "        if list1[i]>=list1[j]:\n",
    "            list1[i],list1[j]=list1[j],list1[i]\n",
    "            \n",
    "print(list1)"
   ]
  },
  {
   "cell_type": "code",
   "execution_count": 34,
   "id": "1bd9bafc",
   "metadata": {},
   "outputs": [
    {
     "name": "stdout",
     "output_type": "stream",
     "text": [
      "[8, 7, 6, 5, 4, 3, 2]\n"
     ]
    }
   ],
   "source": [
    "#descending order\n",
    "\n",
    "list1=[2,4,6,8,5,7,3]\n",
    "\n",
    "for i in range(len(list1)):\n",
    "    for j in range(i+1,len(list1)):\n",
    "        if list1[i]<=list1[j]:\n",
    "            list1[i],list1[j]=list1[j],list1[i]\n",
    "            \n",
    "print(list1)"
   ]
  },
  {
   "cell_type": "markdown",
   "id": "2cbfd905",
   "metadata": {},
   "source": [
    "# 29. How to sort a tuple?"
   ]
  },
  {
   "cell_type": "code",
   "execution_count": 35,
   "id": "9de1b146",
   "metadata": {},
   "outputs": [
    {
     "name": "stdout",
     "output_type": "stream",
     "text": [
      "The sorted tuple is:  [1, 23, 34, 42, 53, 65, 79, 87, 100]\n"
     ]
    }
   ],
   "source": [
    "# Using sorted() method.\n",
    "tup=(23,53,1,100,34,65,87,79,42)\n",
    "sorted_tup=sorted(tup)\n",
    "print(\"The sorted tuple is: \",sorted_tup)"
   ]
  },
  {
   "cell_type": "code",
   "execution_count": 36,
   "id": "dc53ef7b",
   "metadata": {},
   "outputs": [
    {
     "name": "stdout",
     "output_type": "stream",
     "text": [
      "The sorted tuple is:  ['hi', 'bye', 'hello', 'greetings']\n"
     ]
    }
   ],
   "source": [
    "# sorting a tuple of strings based on the length of the strings by using sorted() method.\n",
    "tup=['hi','hello','bye','greetings']\n",
    "result=sorted(tup,key=len)\n",
    "print(\"The sorted tuple is: \",result)"
   ]
  },
  {
   "cell_type": "markdown",
   "id": "d8f8cc60",
   "metadata": {},
   "source": [
    "# 30. Write a Python program to convert a list of multiple integers into a single integer [11, 33, 50] >>> 113350"
   ]
  },
  {
   "cell_type": "code",
   "execution_count": 37,
   "id": "021549e7",
   "metadata": {},
   "outputs": [
    {
     "name": "stdout",
     "output_type": "stream",
     "text": [
      "113350"
     ]
    }
   ],
   "source": [
    "list1=[11, 33, 50]\n",
    "for i in list1:\n",
    "    print(i,end=\"\")"
   ]
  },
  {
   "cell_type": "code",
   "execution_count": 38,
   "id": "832b3b9a",
   "metadata": {},
   "outputs": [
    {
     "name": "stdout",
     "output_type": "stream",
     "text": [
      "113350\n"
     ]
    }
   ],
   "source": [
    "list1=[11,33,50]\n",
    "s=[str(i) for i in list1]\n",
    "print(\"\".join(s))"
   ]
  },
  {
   "cell_type": "markdown",
   "id": "9f930f4b",
   "metadata": {},
   "source": [
    "# 31. Difference between del and clear."
   ]
  },
  {
   "cell_type": "markdown",
   "id": "c300b5c0",
   "metadata": {},
   "source": [
    "* del keyword deletes the list or tuple or set or dictionaries completely.\n",
    "* clear empties the elements of list or tuple or set or dictionaries."
   ]
  },
  {
   "cell_type": "markdown",
   "id": "5324405f",
   "metadata": {},
   "source": [
    "# 32. Difference between remove and pop."
   ]
  },
  {
   "cell_type": "markdown",
   "id": "fc741b27",
   "metadata": {},
   "source": [
    "* .remove() removes specified list items.\n",
    "* .pop() removes the last item in the list ; if index is specified, then it removes indexed item."
   ]
  },
  {
   "cell_type": "markdown",
   "id": "c117584b",
   "metadata": {},
   "source": [
    "# 33. Difference between indexing and Slicing?"
   ]
  },
  {
   "cell_type": "markdown",
   "id": "6b31d96c",
   "metadata": {},
   "source": [
    "* Indexing is used to obtain individual elements.\n",
    "* Indexing means refering to an element based on its position.\n",
    "\n",
    "* Slicing is used to obtain a sequence of elements.\n",
    "* Slicing means obtaining a subset of elements based on the specified positions."
   ]
  },
  {
   "cell_type": "markdown",
   "id": "ec93ca25",
   "metadata": {},
   "source": [
    "# 34. Difference between sort and sorted?"
   ]
  },
  {
   "cell_type": "markdown",
   "id": "10206acc",
   "metadata": {},
   "source": [
    "* sort() directly modifies the original list.\n",
    "* sort() in Python is a method of list class and can only be used with lists. \n",
    "* sorted() keeps the original list intact and creates a new sorted list."
   ]
  },
  {
   "cell_type": "markdown",
   "id": "02f392c9",
   "metadata": {},
   "source": [
    "# 35. Difference between reverse and reversed?"
   ]
  },
  {
   "cell_type": "markdown",
   "id": "b17c19f8",
   "metadata": {},
   "source": [
    "* reverse() function is used to reverse the elements from the list.\n",
    "* It operates on the original list.\n",
    "* The reverse() function can only be used for the list data type."
   ]
  },
  {
   "cell_type": "markdown",
   "id": "dc01a9cd",
   "metadata": {},
   "source": [
    "* reversed() function takes a sequence and returns the reversed iterator object.\n",
    "* The reversed() function can be used to reverse lists, tuples, strings, dictionaries, or any sequence that is iterable (except sets)."
   ]
  },
  {
   "cell_type": "markdown",
   "id": "40cf201e",
   "metadata": {},
   "source": [
    "# 36. Difference between copy and deep copy?"
   ]
  },
  {
   "cell_type": "markdown",
   "id": "4c950274",
   "metadata": {},
   "source": [
    "*The main motive is to create a copy of Python object that we can modify the copy without changing the original data. \n",
    "\n",
    "*  Copy stores the references of objects to the original memory address.   \t\n",
    "*  Copy reflects changes made to the new/copied object in the original object.\t\n",
    "* A shallow copy is faster.\t"
   ]
  },
  {
   "cell_type": "markdown",
   "id": "b8febdca",
   "metadata": {},
   "source": [
    "* Deep copy stores copies of the object’s value.\n",
    "* Deep copy doesn’t reflect changes made to the new/copied object in the original object.\n",
    "* Deep copy is comparatively slower"
   ]
  },
  {
   "cell_type": "markdown",
   "id": "0e5616ef",
   "metadata": {},
   "source": [
    "# 37. How to check whether the list is empty or not?"
   ]
  },
  {
   "cell_type": "code",
   "execution_count": 39,
   "id": "ca378bea",
   "metadata": {},
   "outputs": [
    {
     "name": "stdout",
     "output_type": "stream",
     "text": [
      "List is not empty\n"
     ]
    }
   ],
   "source": [
    "list1=[\"hey\"]\n",
    "\n",
    "if len(list1)==0:\n",
    "    print(\"List is empty\")\n",
    "    \n",
    "else:\n",
    "    print(\"List is not empty\")"
   ]
  },
  {
   "cell_type": "code",
   "execution_count": 40,
   "id": "7609a52f",
   "metadata": {},
   "outputs": [
    {
     "name": "stdout",
     "output_type": "stream",
     "text": [
      "List is not empty\n"
     ]
    }
   ],
   "source": [
    "list1=[24,45]\n",
    "\n",
    "if list1 == []:\n",
    "    print(\"List is empty\")\n",
    "    \n",
    "else:\n",
    "    print(\"List is not empty\")"
   ]
  },
  {
   "cell_type": "markdown",
   "id": "953172cf",
   "metadata": {},
   "source": [
    "# 38. How to concatenate two lists?"
   ]
  },
  {
   "cell_type": "code",
   "execution_count": 1,
   "id": "df943593",
   "metadata": {},
   "outputs": [
    {
     "name": "stdout",
     "output_type": "stream",
     "text": [
      "Concatenated list is [1, 2, 3, 'apple', 'orange', 'banana']\n"
     ]
    }
   ],
   "source": [
    "#using + operator\n",
    "\n",
    "list1=[1,2,3]\n",
    "list2=[\"apple\",\"orange\",\"banana\"]\n",
    "\n",
    "list3=list1+list2\n",
    "print(\"Concatenated list is\",list3)"
   ]
  },
  {
   "cell_type": "code",
   "execution_count": null,
   "id": "66c06da2",
   "metadata": {},
   "outputs": [],
   "source": [
    "#using append\n",
    "\n",
    "list1=[1,2,3]\n",
    "list2=[\"apple\",\"orange\",\"banana\"]\n",
    "\n",
    "for i in list1:\n",
    "    list1.append(i)\n",
    "print(\"Concatenated list is\",list1)"
   ]
  },
  {
   "cell_type": "code",
   "execution_count": null,
   "id": "b2d022dc",
   "metadata": {},
   "outputs": [],
   "source": [
    "#using extend\n",
    "\n",
    "list1=[1,2,3]\n",
    "list2=[\"apple\",\"orange\",\"banana\"]\n",
    "\n",
    "list1.extend(list2)\n",
    "print(\"Concatenated list is\",list1)"
   ]
  },
  {
   "cell_type": "markdown",
   "id": "119148d7",
   "metadata": {},
   "source": [
    "# 39. How to find the occurrences of an element in the python list?"
   ]
  },
  {
   "cell_type": "code",
   "execution_count": null,
   "id": "0c2a4ebd",
   "metadata": {},
   "outputs": [],
   "source": [
    "#solved in Q8"
   ]
  },
  {
   "cell_type": "markdown",
   "id": "e26a06fb",
   "metadata": {},
   "source": [
    "# 40. How to flatten a list in python."
   ]
  },
  {
   "cell_type": "code",
   "execution_count": null,
   "id": "6b5e504e",
   "metadata": {},
   "outputs": [],
   "source": [
    "# solved in Q27"
   ]
  }
 ],
 "metadata": {
  "kernelspec": {
   "display_name": "Python 3 (ipykernel)",
   "language": "python",
   "name": "python3"
  },
  "language_info": {
   "codemirror_mode": {
    "name": "ipython",
    "version": 3
   },
   "file_extension": ".py",
   "mimetype": "text/x-python",
   "name": "python",
   "nbconvert_exporter": "python",
   "pygments_lexer": "ipython3",
   "version": "3.11.5"
  }
 },
 "nbformat": 4,
 "nbformat_minor": 5
}
