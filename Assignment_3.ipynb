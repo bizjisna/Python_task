{
 "cells": [
  {
   "cell_type": "markdown",
   "id": "95aa95e9",
   "metadata": {},
   "source": [
    "# Q1. Python program to sort Python Dictionaries by Keys."
   ]
  },
  {
   "cell_type": "code",
   "execution_count": 1,
   "id": "66b2182a",
   "metadata": {},
   "outputs": [
    {
     "name": "stdout",
     "output_type": "stream",
     "text": [
      "Original dictionary :  {'ravi': 10, 'rajesh': 9, 'sanjeev': 15, 'yash': 2, 'suraj': 32}\n",
      "Sorted dictionary :  {'rajesh': 9, 'ravi': 10, 'sanjeev': 15, 'suraj': 32, 'yash': 2}\n"
     ]
    }
   ],
   "source": [
    "# converting to list and using sort() function\n",
    "\n",
    "dict1 = {'ravi': 10, 'rajesh': 9,\n",
    "        'sanjeev': 15, 'yash': 2, 'suraj': 32}\n",
    "print(\"Original dictionary : \",dict1)\n",
    "\n",
    "k=dict1.keys()\n",
    "k1=list(k)\n",
    "k1.sort()\n",
    "\n",
    "dict1={i:dict1[i] for i in k1}\n",
    "print(\"Sorted dictionary : \",dict1)"
   ]
  },
  {
   "cell_type": "code",
   "execution_count": 2,
   "id": "9979e3b6",
   "metadata": {},
   "outputs": [
    {
     "name": "stdout",
     "output_type": "stream",
     "text": [
      "Original dictionary :  {'ravi': 10, 'rajesh': 9, 'sanjeev': 15, 'yash': 2, 'suraj': 32}\n",
      "  \n",
      "Sorted dictionary :  {'ravi': 10, 'rajesh': 9, 'sanjeev': 15, 'yash': 2, 'suraj': 32}\n"
     ]
    }
   ],
   "source": [
    "# using sorted function \n",
    "\n",
    "dict1 = {'ravi': 10, 'rajesh': 9,\n",
    "        'sanjeev': 15, 'yash': 2, 'suraj': 32}\n",
    "print(\"Original dictionary : \",dict1)\n",
    "\n",
    "dict(sorted(dict1.items()))\n",
    "\n",
    "print(\"  \")\n",
    "\n",
    "print(\"Sorted dictionary : \",dict1)"
   ]
  },
  {
   "cell_type": "code",
   "execution_count": 3,
   "id": "36c14a98",
   "metadata": {},
   "outputs": [
    {
     "name": "stdout",
     "output_type": "stream",
     "text": [
      "Original dictionary :  {'ravi': 10, 'rajesh': 9, 'sanjeev': 15, 'yash': 2, 'suraj': 32}\n",
      "  \n",
      "Sorted dictionary :  {'rajesh': 9, 'ravi': 10, 'sanjeev': 15, 'suraj': 32, 'yash': 2}\n"
     ]
    }
   ],
   "source": [
    "# creating function\n",
    "def sort_dict(dict1):\n",
    " \n",
    "    sorted_list_1 = sorted(dict1.items())\n",
    " \n",
    "    dict_2 = {}\n",
    " \n",
    "    for key , value in sorted_list_1:\n",
    "        dict_2[key] = value\n",
    " \n",
    "    return dict_2\n",
    " \n",
    " \n",
    " \n",
    "dict1 = {'ravi': 10, 'rajesh': 9,\n",
    "        'sanjeev': 15, 'yash': 2, 'suraj': 32}\n",
    "print(\"Original dictionary : \",dict1)\n",
    "\n",
    "print(\"  \")\n",
    "\n",
    "dict_2 = sort_dict(dict1)\n",
    "print(\"Sorted dictionary : \",dict_2)\n"
   ]
  },
  {
   "cell_type": "markdown",
   "id": "d579b670",
   "metadata": {},
   "source": [
    "# Q2. Python program to sort python dictionaries by values."
   ]
  },
  {
   "cell_type": "code",
   "execution_count": 4,
   "id": "a7a87eb4",
   "metadata": {},
   "outputs": [
    {
     "name": "stdout",
     "output_type": "stream",
     "text": [
      "Original dictionary: {'ravi': 10, 'rajesh': 9, 'sanjeev': 15, 'yash': 3, 'suraj': 32}\n",
      "  \n",
      "Sorted dictionary by values: {'yash': 3, 'rajesh': 9, 'ravi': 10, 'sanjeev': 15, 'suraj': 32}\n"
     ]
    }
   ],
   "source": [
    "dict1 = {'ravi': 10, 'rajesh': 9, 'sanjeev': 15, 'yash': 3, 'suraj': 32}\n",
    "\n",
    "print(\"Original dictionary:\", dict1)\n",
    "\n",
    "# Sort the dictionary by values and create a new dictionary\n",
    "sorted_dict = {k: v for k, v in sorted(dict1.items(), key=lambda item: item[1])}\n",
    "\n",
    "print(\"  \")\n",
    "print(\"Sorted dictionary by values:\", sorted_dict)\n"
   ]
  },
  {
   "cell_type": "markdown",
   "id": "b0c2eff7",
   "metadata": {},
   "source": [
    "# Q 3.Python program to find sum of all items in a dictionary."
   ]
  },
  {
   "cell_type": "code",
   "execution_count": 5,
   "id": "11478e53",
   "metadata": {},
   "outputs": [
    {
     "name": "stdout",
     "output_type": "stream",
     "text": [
      "Original dictionary: {'ravi': 10, 'rajesh': 9, 'sanjeev': 15, 'yash': 3, 'suraj': 32}\n",
      "Sum of values is 69\n"
     ]
    }
   ],
   "source": [
    "#using sum() function\n",
    "\n",
    "dict1 = {'ravi': 10, 'rajesh': 9, 'sanjeev': 15, 'yash': 3, 'suraj': 32}\n",
    "print(\"Original dictionary:\", dict1)\n",
    "\n",
    "dict_sum=sum(dict1.values())\n",
    "\n",
    "print(\"Sum of values is\", dict_sum)"
   ]
  },
  {
   "cell_type": "code",
   "execution_count": 6,
   "id": "64b0c4d7",
   "metadata": {},
   "outputs": [
    {
     "name": "stdout",
     "output_type": "stream",
     "text": [
      "Original dictionary: {'ravi': 10, 'rajesh': 9, 'sanjeev': 15, 'yash': 3, 'suraj': 32}\n",
      "Sum of values is 69\n"
     ]
    }
   ],
   "source": [
    "#using for loop \n",
    "\n",
    "dict1 = {'ravi': 10, 'rajesh': 9, 'sanjeev': 15, 'yash': 3, 'suraj': 32}\n",
    "print(\"Original dictionary:\", dict1)\n",
    "\n",
    "def returnSum(dict):\n",
    " \n",
    "    sum = 0\n",
    "    for i in dict:\n",
    "        sum = sum + dict[i]\n",
    " \n",
    "    return sum\n",
    "\n",
    "print(\"Sum of values is\",returnSum(dict1))"
   ]
  },
  {
   "cell_type": "code",
   "execution_count": 7,
   "id": "bae3dc89",
   "metadata": {},
   "outputs": [
    {
     "name": "stdout",
     "output_type": "stream",
     "text": [
      "Original dictionary: {'ravi': 10, 'rajesh': 9, 'sanjeev': 15, 'yash': 3, 'suraj': 32}\n",
      "Sum of values is 69\n"
     ]
    }
   ],
   "source": [
    "#using for loop and values() function\n",
    "\n",
    "dict1 = {'ravi': 10, 'rajesh': 9, 'sanjeev': 15, 'yash': 3, 'suraj': 32}\n",
    "print(\"Original dictionary:\", dict1)\n",
    "\n",
    "def returnSum(dict):\n",
    " \n",
    "    sum = 0\n",
    "    for i in dict.values():\n",
    "        sum = sum + i\n",
    " \n",
    "    return sum\n",
    "\n",
    "print(\"Sum of values is\",returnSum(dict1))"
   ]
  },
  {
   "cell_type": "markdown",
   "id": "c2565fca",
   "metadata": {},
   "source": [
    "# Q 4. Python program to remove a key from dictionary."
   ]
  },
  {
   "cell_type": "code",
   "execution_count": 8,
   "id": "03dcc3f0",
   "metadata": {},
   "outputs": [
    {
     "name": "stdout",
     "output_type": "stream",
     "text": [
      "Original dictionary: {'ravi': 10, 'rajesh': 9, 'sanjeev': 15, 'yash': 3, 'suraj': 32}\n",
      "Modified dictionary :  {'ravi': 10, 'rajesh': 9, 'sanjeev': 15, 'suraj': 32}\n"
     ]
    }
   ],
   "source": [
    "# using del function\n",
    "\n",
    "dict1 = {'ravi': 10, 'rajesh': 9, 'sanjeev': 15, 'yash': 3, 'suraj': 32}\n",
    "print(\"Original dictionary:\", dict1)\n",
    "\n",
    "del dict1['yash']\n",
    "\n",
    "print(\"Modified dictionary : \",dict1)"
   ]
  },
  {
   "cell_type": "code",
   "execution_count": 9,
   "id": "56f9db77",
   "metadata": {},
   "outputs": [
    {
     "name": "stdout",
     "output_type": "stream",
     "text": [
      "Original dictionary: {'ravi': 10, 'rajesh': 9, 'sanjeev': 15, 'yash': 3, 'suraj': 32}\n",
      "Modified dictionary {'ravi': 10, 'rajesh': 9, 'sanjeev': 15, 'yash': 3}\n",
      "Modified dictionary :  {'rajesh': 9, 'sanjeev': 15, 'yash': 3}\n"
     ]
    }
   ],
   "source": [
    "#using popitem , pop function\n",
    "\n",
    "dict1 = {'ravi': 10, 'rajesh': 9, 'sanjeev': 15, 'yash': 3, 'suraj': 32}\n",
    "print(\"Original dictionary:\", dict1)\n",
    "\n",
    "dict1.popitem()       # here key is not specified\n",
    "print(\"Modified dictionary\",dict1)\n",
    "\n",
    "dict1.pop('ravi') \n",
    "print(\"Modified dictionary : \",dict1)"
   ]
  },
  {
   "cell_type": "code",
   "execution_count": 10,
   "id": "8d9bc382",
   "metadata": {},
   "outputs": [
    {
     "name": "stdout",
     "output_type": "stream",
     "text": [
      "Original dictionary: {'ravi': 10, 'rajesh': 9, 'sanjeev': 15, 'yash': 3, 'suraj': 32}\n",
      "  \n",
      "Modified dictionary :  {'rajesh': 9, 'sanjeev': 15, 'yash': 3, 'suraj': 32}\n"
     ]
    }
   ],
   "source": [
    "#using dictionary comprehension\n",
    "\n",
    "dict1 = {'ravi': 10, 'rajesh': 9, 'sanjeev': 15, 'yash': 3, 'suraj': 32}\n",
    "print(\"Original dictionary:\", dict1)\n",
    "\n",
    "dict2={key:dict1[key] for key in dict1 if key != 'ravi' }\n",
    "\n",
    "print(\"  \")\n",
    "print(\"Modified dictionary : \",dict2)"
   ]
  },
  {
   "cell_type": "code",
   "execution_count": 11,
   "id": "d06fcd5c",
   "metadata": {},
   "outputs": [
    {
     "name": "stdout",
     "output_type": "stream",
     "text": [
      "Original dictionary: {'ravi': 10, 'rajesh': 9, 'sanjeev': 15, 'yash': 3, 'suraj': 32}\n",
      "  \n",
      "Modified dictionary :  {'ravi': 10, 'rajesh': 9, 'sanjeev': 15, 'suraj': 32}\n"
     ]
    }
   ],
   "source": [
    "#using loop\n",
    "\n",
    "dict1 = {'ravi': 10, 'rajesh': 9, 'sanjeev': 15, 'yash': 3, 'suraj': 32}\n",
    "print(\"Original dictionary:\", dict1)\n",
    "\n",
    "dict2={}       #initialize an empty dictionary\n",
    "\n",
    "for key,value in dict1.items():\n",
    "    if key != 'yash':\n",
    "        dict2[key]=value\n",
    "print(\"  \")        \n",
    "print(\"Modified dictionary : \",dict2)"
   ]
  },
  {
   "cell_type": "markdown",
   "id": "9f64202f",
   "metadata": {},
   "source": [
    "# Q 5 . Python program to merge two dictionaries. "
   ]
  },
  {
   "cell_type": "code",
   "execution_count": 12,
   "id": "e5701ca1",
   "metadata": {},
   "outputs": [
    {
     "name": "stdout",
     "output_type": "stream",
     "text": [
      "Merged dictionary :  {'a': 1, 'b': 2, 'c': 3, 'd': 4, 'e': 5}\n"
     ]
    }
   ],
   "source": [
    "#using | operator\n",
    "\n",
    "dict1 = {'a':1,'b':2,'c':3}\n",
    "dict2={'d':4,'e':5}\n",
    "\n",
    "merge=dict1|dict2\n",
    "print(\"Merged dictionary : \",merge)\n"
   ]
  },
  {
   "cell_type": "code",
   "execution_count": 13,
   "id": "86835d6e",
   "metadata": {},
   "outputs": [
    {
     "name": "stdout",
     "output_type": "stream",
     "text": [
      "Merged dictionary :  {'a': 1, 'b': 2, 'c': 3, 'd': 4, 'e': 5}\n"
     ]
    }
   ],
   "source": [
    "#using update\n",
    "\n",
    "dict1 = {'a':1,'b':2,'c':3}\n",
    "dict2={'d':4,'e':5}\n",
    "\n",
    "dict1.update(dict2)\n",
    "\n",
    "print(\"Merged dictionary : \",dict1)"
   ]
  },
  {
   "cell_type": "code",
   "execution_count": 14,
   "id": "3a2b60ae",
   "metadata": {},
   "outputs": [
    {
     "name": "stdout",
     "output_type": "stream",
     "text": [
      "Merged dictionary :  {'a': 1, 'b': 2, 'c': 3, 'd': 4, 'e': 5}\n"
     ]
    }
   ],
   "source": [
    "#using kwargs for unpacking\n",
    "\n",
    "dict1 = {'a':1,'b':2,'c':3}\n",
    "dict2={'d':4,'e':5}\n",
    "\n",
    "def Merge(dict1, dict2):\n",
    "    res = {**dict1, **dict2}\n",
    "    return res\n",
    "     \n",
    "dict3 = Merge(dict1, dict2)\n",
    "print(\"Merged dictionary : \",dict3)"
   ]
  },
  {
   "cell_type": "code",
   "execution_count": 15,
   "id": "3c5784bc",
   "metadata": {},
   "outputs": [
    {
     "name": "stdout",
     "output_type": "stream",
     "text": [
      "Merged dictionary: {'a': 1, 'b': 2, 'c': 3, 'd': 4, 'e': 5}\n"
     ]
    }
   ],
   "source": [
    "#using loop\n",
    "\n",
    "dict1 = {'a':1,'b':2,'c':3}\n",
    "dict2={'d':4,'e':5}\n",
    "\n",
    "\n",
    "def merge(d1, d2):\n",
    "    for key in d2.keys():  \n",
    "        d1[key] = d2[key]\n",
    "    return d1                # Return the merged dictionary\n",
    "\n",
    "print(\"Merged dictionary:\", merge(dict1, dict2))\n"
   ]
  },
  {
   "cell_type": "markdown",
   "id": "9f49b7ef",
   "metadata": {},
   "source": [
    "# Q 6. Program to create calculator in python."
   ]
  },
  {
   "cell_type": "code",
   "execution_count": 29,
   "id": "80a6117d",
   "metadata": {},
   "outputs": [
    {
     "name": "stdout",
     "output_type": "stream",
     "text": [
      "Enter first number :5\n",
      "Enter second number :6\n",
      " \n",
      "Choose the required operation : \n",
      "1 : Add\n",
      "2: Subtract\n",
      "3: Multiply\n",
      "4: Division\n",
      "Select operation 1 / 2 / 3 / 4 :3\n",
      " \n",
      "Result :  5.0 * 6.0 = 45.0\n"
     ]
    }
   ],
   "source": [
    "num1=float(input(\"Enter first number :\"))\n",
    "num2=float(input(\"Enter second number :\"))\n",
    "\n",
    "print(\" \")\n",
    "print(\"Choose the required operation : \")\n",
    "print(\"1 : Add\")\n",
    "print(\"2: Subtract\")\n",
    "print(\"3: Multiply\")\n",
    "print(\"4: Division\")\n",
    "select=int(input(\"Select operation 1 / 2 / 3 / 4 :\"))\n",
    "print(\" \")\n",
    "\n",
    "if select == 1:\n",
    "    print(\"Result : \",num1,\"+\",num2,\"=\",(n1+n2))\n",
    "\n",
    "elif select == 2:\n",
    "    print(\"Result : \",num1,\"-\",num2,\"=\",(n1-n2))\n",
    "    \n",
    "elif select == 3:\n",
    "    print(\"Result : \",num1,\"*\",num2,\"=\",(n1*n2))\n",
    "    \n",
    "elif select == 4:\n",
    "    print(\"Result : \",num1,\"/\",num2,\"=\",(n1/n2))\n",
    "    \n",
    "else:\n",
    "    print(\"Invalid selection\")"
   ]
  },
  {
   "cell_type": "code",
   "execution_count": 21,
   "id": "fc9c7f7b",
   "metadata": {},
   "outputs": [
    {
     "name": "stdout",
     "output_type": "stream",
     "text": [
      "Select operation:\n",
      "1. Add\n",
      "2. Subtract\n",
      "3. Multiply\n",
      "4. Divide\n",
      "Enter choice (1/2/3/4): 2\n",
      "Enter first number: 5\n",
      "Enter second number: 6\n",
      "Result: -1.0\n"
     ]
    }
   ],
   "source": [
    "def add(x, y):\n",
    "    return x + y\n",
    "\n",
    "def subtract(x, y):\n",
    "    return x - y\n",
    "\n",
    "def multiply(x, y):\n",
    "    return x * y\n",
    "\n",
    "def divide(x, y):\n",
    "    if y == 0:\n",
    "        return \"Error! Division by zero.\"\n",
    "    return x / y\n",
    "\n",
    "print(\"Select operation:\")\n",
    "print(\"1. Add\")\n",
    "print(\"2. Subtract\")\n",
    "print(\"3. Multiply\")\n",
    "print(\"4. Divide\")\n",
    "\n",
    "while True:\n",
    "    choice = input(\"Enter choice (1/2/3/4): \")\n",
    "\n",
    "    if choice in ('1', '2', '3', '4'):\n",
    "        num1 = float(input(\"Enter first number: \"))\n",
    "        num2 = float(input(\"Enter second number: \"))\n",
    "\n",
    "        if choice == '1':\n",
    "            print(\"Result:\", add(num1, num2))\n",
    "        elif choice == '2':\n",
    "            print(\"Result:\", subtract(num1, num2))\n",
    "        elif choice == '3':\n",
    "            print(\"Result:\", multiply(num1, num2))\n",
    "        elif choice == '4':\n",
    "            print(\"Result:\", divide(num1, num2))\n",
    "        \n",
    "        break\n",
    "    else:\n",
    "        print(\"Invalid input. Please enter a valid number.\")\n"
   ]
  },
  {
   "cell_type": "markdown",
   "id": "07d13d9a",
   "metadata": {},
   "source": [
    "# Q 7. Print anagram together in python using list and Dictionary."
   ]
  },
  {
   "cell_type": "code",
   "execution_count": 37,
   "id": "fe0ba4a8",
   "metadata": {},
   "outputs": [
    {
     "name": "stdout",
     "output_type": "stream",
     "text": [
      "Anagrams :  {'aet': ['eat', 'tea', 'ate'], 'ant': ['tan', 'nat'], 'abt': ['bat']}\n"
     ]
    }
   ],
   "source": [
    "def group_anagrams(words):\n",
    "    \n",
    "    anagram_dict = {}\n",
    "\n",
    "    \n",
    "    for word in words:\n",
    "        # Generate unique key for each word by sorting its characters alphabetically\n",
    "        sorted_word = ''.join(sorted(word))\n",
    "\n",
    "    \n",
    "        if sorted_word in anagram_dict:\n",
    "            anagram_dict[sorted_word].append(word)\n",
    "        else:\n",
    "            anagram_dict[sorted_word] = [word]\n",
    "        \n",
    "    return dict(anagram_dict)\n",
    "\n",
    "words = [\"eat\", \"tea\", \"tan\", \"ate\", \"nat\", \"bat\"]\n",
    "print(\"Anagrams : \",group_anagrams(words))\n"
   ]
  },
  {
   "cell_type": "markdown",
   "id": "de52f814",
   "metadata": {},
   "source": [
    "# Q 8. Check if binary representation of two numbers are as anagram."
   ]
  },
  {
   "cell_type": "code",
   "execution_count": 49,
   "id": "0ad30e5e",
   "metadata": {},
   "outputs": [
    {
     "name": "stdout",
     "output_type": "stream",
     "text": [
      "0b10\n",
      "0b10\n",
      "The binary representations of 2 and 2 are anagrams.\n"
     ]
    }
   ],
   "source": [
    "def binary_anagram(num1, num2):\n",
    "   \n",
    " # Convert numbers to binary strings\n",
    "    bin1 = bin(num1)\n",
    "    print(bin1)\n",
    "    bin2 = bin(num2)  \n",
    "    print(bin2)\n",
    "    \n",
    "    count_0_num1 = bin1.count('0')\n",
    "    count_1_num1 = bin1.count('1')\n",
    "    count_0_num2 = bin2.count('0')\n",
    "    count_1_num2 = bin2.count('1')\n",
    "\n",
    "    \n",
    "    if count_0_num1 == count_0_num2 and count_1_num1 == count_1_num2:\n",
    "        return True\n",
    "    else:\n",
    "        return False\n",
    "\n",
    "\n",
    "num1 = 2\n",
    "num2 = 2\n",
    "\n",
    "if binary_anagram(num1, num2):\n",
    "    print(f\"The binary representations of {num1} and {num2} are anagrams.\")\n",
    "else:\n",
    "    print(f\"The binary representations of {num1} and {num2} are not anagrams.\")\n"
   ]
  },
  {
   "cell_type": "code",
   "execution_count": 50,
   "id": "300a5e68",
   "metadata": {},
   "outputs": [
    {
     "name": "stdout",
     "output_type": "stream",
     "text": [
      "The binary representations of 5 and 10 are not anagrams.\n"
     ]
    }
   ],
   "source": [
    "def binary_anagram(num1, num2):\n",
    "   \n",
    "    bin1 = sorted(bin(num1))  \n",
    "    bin2 = sorted(bin(num2))  \n",
    "\n",
    "   \n",
    "    return bin1 == bin2\n",
    "\n",
    "\n",
    "num1 = 5\n",
    "num2 = 10\n",
    "if binary_anagram(num1, num2):\n",
    "    print(f\"The binary representations of {num1} and {num2} are anagrams.\")\n",
    "else:\n",
    "    print(f\"The binary representations of {num1} and {num2} are not anagrams.\")\n"
   ]
  },
  {
   "cell_type": "markdown",
   "id": "e7fc98b6",
   "metadata": {},
   "source": [
    "# Q 9. Python counter to find the size of largest subset of anagram words."
   ]
  },
  {
   "cell_type": "code",
   "execution_count": 53,
   "id": "ed598017",
   "metadata": {},
   "outputs": [
    {
     "name": "stdout",
     "output_type": "stream",
     "text": [
      "Size of the largest subset of anagram words: 3\n"
     ]
    }
   ],
   "source": [
    "def largest_anagram_subset(words):\n",
    "\n",
    "    anagrams_dict = {}\n",
    "    \n",
    "    for word in words:\n",
    "        sorted_word_tuple = tuple(sorted(word))\n",
    "\n",
    "        if sorted_word_tuple in anagrams_dict:\n",
    "            anagrams_dict[sorted_word_tuple].append(word)\n",
    "        else:\n",
    "            anagrams_dict[sorted_word_tuple] = [word]\n",
    "\n",
    "    max_subset_size = max(len(anagrams) for anagrams in anagrams_dict.values())\n",
    "\n",
    "    return max_subset_size\n",
    "\n",
    "words = [\"eat\", \"tea\", \"tan\", \"ate\", \"nat\", \"bat\"]\n",
    "print(\"Size of the largest subset of anagram words:\", largest_anagram_subset(words))\n"
   ]
  },
  {
   "cell_type": "markdown",
   "id": "c4b4e989",
   "metadata": {},
   "source": [
    "# Q 10 . Python Dictionary to find mirror character in a string."
   ]
  },
  {
   "cell_type": "code",
   "execution_count": 116,
   "id": "24fe4f9c",
   "metadata": {},
   "outputs": [
    {
     "name": "stdout",
     "output_type": "stream",
     "text": [
      "Enter a String :: hii\n",
      "String is ::  hii\n",
      "mirror word of hii is  rrs\n"
     ]
    }
   ],
   "source": [
    "def mirror_char(s):\n",
    " \n",
    "    mirror_dict = {\n",
    "        'a': 'z', 'b': 'y', 'c': 'x', 'd': 'w', 'e': 'v',\n",
    "        'f': 'u', 'g': 't', 'h': 's', 'i': 'r', 'j': 'q',\n",
    "        'k': 'p', 'l': 'o', 'm': 'n', 'n': 'm', 'o': 'l',\n",
    "        'p': 'k', 'q': 'j', 'r': 'i', 's': 'h', 't': 'g',\n",
    "        'u': 'f', 'v': 'e', 'w': 'd', 'x': 'c', 'y': 'b',\n",
    "        'z': 'a'\n",
    "    }\n",
    " \n",
    "    reversed_str = s[::-1]\n",
    "    mirror_str = ''.join(mirror_dict[char] for char in reversed_str)\n",
    "    return mirror_str\n",
    " \n",
    " \n",
    "s = input(\"Enter a String :: \")\n",
    "print('String is :: ' , s)\n",
    "print(f\"mirror word of {s} is  {mirror_char(s)}\")"
   ]
  },
  {
   "cell_type": "markdown",
   "id": "a3689d35",
   "metadata": {},
   "source": [
    "# Q 11 . Counting the frequencies in a list using a dictionary in python."
   ]
  },
  {
   "cell_type": "code",
   "execution_count": 54,
   "id": "426923c2",
   "metadata": {},
   "outputs": [
    {
     "name": "stdout",
     "output_type": "stream",
     "text": [
      "Frequencies: {1: 1, 2: 2, 3: 3, 4: 4}\n"
     ]
    }
   ],
   "source": [
    "def count_frequencies(list1):\n",
    "    freq_dict = {}\n",
    "\n",
    "    for element in list1:\n",
    "        if element in freq_dict:\n",
    "            freq_dict[element] += 1\n",
    "        else:\n",
    "            freq_dict[element] = 1\n",
    "\n",
    "    return freq_dict\n",
    "\n",
    "\n",
    "my_list = [1, 2, 2, 3, 3, 3, 4, 4, 4, 4]\n",
    "result = count_frequencies(my_list)\n",
    "print(\"Frequencies:\", result)\n"
   ]
  },
  {
   "cell_type": "code",
   "execution_count": 64,
   "id": "0ece810b",
   "metadata": {},
   "outputs": [
    {
     "name": "stdout",
     "output_type": "stream",
     "text": [
      "Frequencies: {1: 1, 2: 2, 3: 3, 4: 3}\n"
     ]
    }
   ],
   "source": [
    "#using dictionary comprehension\n",
    "\n",
    "def count_frequencies(list1):\n",
    "   \n",
    "    freq_dict = {x: list1.count(x) for x in list1}\n",
    "    return freq_dict\n",
    "\n",
    "# Example usage\n",
    "my_list = [1, 2, 2, 3, 3, 3, 4, 4, 4]\n",
    "\n",
    "result = count_frequencies(my_list)\n",
    "print(\"Frequencies:\", result)\n"
   ]
  },
  {
   "cell_type": "code",
   "execution_count": 63,
   "id": "cd25d499",
   "metadata": {},
   "outputs": [
    {
     "name": "stdout",
     "output_type": "stream",
     "text": [
      "Frequencies: {1: 1, 2: 2, 3: 2, 4: 4}\n"
     ]
    }
   ],
   "source": [
    "#using count function\n",
    "\n",
    "def count_frequencies(list1):\n",
    "    freq={}\n",
    "    for i in list1:\n",
    "        freq[i]=list1.count(i)\n",
    "        \n",
    "    return freq\n",
    "    \n",
    "my_list = [1, 2, 2, 3,  3, 4, 4, 4, 4]\n",
    "result = count_frequencies(my_list)\n",
    "print(\"Frequencies:\", result)  "
   ]
  },
  {
   "cell_type": "markdown",
   "id": "2a36c68f",
   "metadata": {},
   "source": [
    "# Q 12. Python program to convert a list of Tuple into Dictionary."
   ]
  },
  {
   "cell_type": "code",
   "execution_count": 67,
   "id": "99ec124f",
   "metadata": {},
   "outputs": [
    {
     "name": "stdout",
     "output_type": "stream",
     "text": [
      "Dictionary :  {'a': 1, 'b': 2, 'c': 3}\n"
     ]
    }
   ],
   "source": [
    "#using dict constructor\n",
    "\n",
    "list_tup = [('a', 1), ('b', 2), ('c', 3)]\n",
    "dict1=dict(list_tup)\n",
    "\n",
    "print(\"Dictionary : \",dict1)"
   ]
  },
  {
   "cell_type": "code",
   "execution_count": 72,
   "id": "ac78f119",
   "metadata": {},
   "outputs": [
    {
     "name": "stdout",
     "output_type": "stream",
     "text": [
      "Dictionary: {'a': 1, 'b': 2, 'c': 3}\n"
     ]
    }
   ],
   "source": [
    "def to_dict(list1):\n",
    "    \n",
    "    result_dict = {key: value for key, value in list1}\n",
    "\n",
    "    return result_dict\n",
    "\n",
    "\n",
    "list_tup = [('a', 1), ('b', 2), ('c', 3)]\n",
    "result = to_dict(list_tup)\n",
    "print(\"Dictionary:\", result)\n"
   ]
  },
  {
   "cell_type": "markdown",
   "id": "76e3b41d",
   "metadata": {},
   "source": [
    "# Q 13 . Scraping and Finding Ordered words in a Dictionary using python."
   ]
  },
  {
   "cell_type": "code",
   "execution_count": 120,
   "id": "e166d017",
   "metadata": {},
   "outputs": [],
   "source": [
    "# solution needs to be worked on"
   ]
  },
  {
   "cell_type": "markdown",
   "id": "94bd5548",
   "metadata": {},
   "source": [
    "# Q 14 . Create list of tuples from the given list having a numbered and its cube each tuple."
   ]
  },
  {
   "cell_type": "code",
   "execution_count": 96,
   "id": "2129464f",
   "metadata": {},
   "outputs": [
    {
     "name": "stdout",
     "output_type": "stream",
     "text": [
      "List of Tuples: [(1, 1), (2, 8), (3, 27), (4, 64), (5, 125)]\n"
     ]
    }
   ],
   "source": [
    "list1 = [1, 2, 3, 4, 5]\n",
    "\n",
    "tuples_list = [(num, num ** 3) for num in list1]\n",
    "print(\"List of Tuples:\", tuples_list)"
   ]
  },
  {
   "cell_type": "code",
   "execution_count": 110,
   "id": "f3f705aa",
   "metadata": {},
   "outputs": [
    {
     "name": "stdout",
     "output_type": "stream",
     "text": [
      "Original list is [1, 2, 3, 4, 5]\n",
      "New list is [(1, 1), (2, 8), (3, 27), (4, 64), (5, 125)]\n"
     ]
    }
   ],
   "source": [
    "def num_cube(list1):\n",
    "    list2=[]\n",
    "    \n",
    "    for i in list1:\n",
    "        list2.append((i,i**3))\n",
    "       \n",
    "    return list2\n",
    "   \n",
    "        \n",
    "my_list1 = [1, 2, 3, 4, 5] \n",
    "print(\"Original list is\",my_list1)  \n",
    "result=num_cube(my_list1)\n",
    "print(\"New list is\",result)"
   ]
  },
  {
   "cell_type": "markdown",
   "id": "0c15271a",
   "metadata": {},
   "source": [
    "# Q 15. Sort a list of tuples by second item."
   ]
  },
  {
   "cell_type": "code",
   "execution_count": 111,
   "id": "bb72f476",
   "metadata": {},
   "outputs": [
    {
     "name": "stdout",
     "output_type": "stream",
     "text": [
      "Sorted List of Tuples: [(3, 2), (4, 3), (1, 5), (2, 8)]\n"
     ]
    }
   ],
   "source": [
    "list_of_tuples = [(1, 5), (3, 2), (2, 8), (4, 3)]\n",
    "\n",
    "list_of_tuples.sort(key=lambda x: x[1])\n",
    "print(\"Sorted List of Tuples:\", list_of_tuples)\n"
   ]
  },
  {
   "cell_type": "markdown",
   "id": "2c42329d",
   "metadata": {},
   "source": []
  },
  {
   "cell_type": "code",
   "execution_count": 117,
   "id": "b1be6601",
   "metadata": {},
   "outputs": [
    {
     "name": "stdout",
     "output_type": "stream",
     "text": [
      "list before sorting :: \n",
      "[(3, 'c'), (1, 'a'), (2, 'b'), (5, 'e'), (4, 'd')]\n",
      "\n",
      "Sorted list of tuples by the second item :: \n",
      "[(1, 'a'), (2, 'b'), (3, 'c'), (4, 'd'), (5, 'e')]\n"
     ]
    }
   ],
   "source": [
    "def sort_tuple(tup):\n",
    " \n",
    "    n = len(tup)\n",
    "    for i in range(0 , n):\n",
    "        for j in range(i , n-1):\n",
    "            if (tup[j][1] > tup[j+1][1]):\n",
    "                tup[j] , tup[j+1] = tup[j+1] , tup[j]\n",
    " \n",
    "    return tup\n",
    " \n",
    "list_1 = [(3, 'c'), (1, 'a'), (2, 'b'), (5, 'e'), (4, 'd')]\n",
    "print('list before sorting :: ', list_1 , sep='\\n' , end='\\n\\n')\n",
    "print(\"Sorted list of tuples by the second item :: \")\n",
    "print(sort_tuple(list_1))"
   ]
  },
  {
   "cell_type": "code",
   "execution_count": null,
   "id": "810f8940",
   "metadata": {},
   "outputs": [],
   "source": []
  }
 ],
 "metadata": {
  "kernelspec": {
   "display_name": "Python 3 (ipykernel)",
   "language": "python",
   "name": "python3"
  },
  "language_info": {
   "codemirror_mode": {
    "name": "ipython",
    "version": 3
   },
   "file_extension": ".py",
   "mimetype": "text/x-python",
   "name": "python",
   "nbconvert_exporter": "python",
   "pygments_lexer": "ipython3",
   "version": "3.11.5"
  }
 },
 "nbformat": 4,
 "nbformat_minor": 5
}
