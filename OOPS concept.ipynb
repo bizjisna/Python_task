{
 "cells": [
  {
   "cell_type": "markdown",
   "id": "a4cc327e",
   "metadata": {},
   "source": [
    " * oop gives the programmer the power to create his own datatype\n",
    " * oop consists of : \n",
    " 1. class\n",
    " 2. object\n",
    " 3. polymorphism\n",
    " 4. encapsulation\n",
    " 5. inheritance\n",
    " 6. abstraction\n",
    " \n",
    " * all datatypes like lists,tuples,dictionaries,etc are classes\n",
    " * when we assign these datatypes to a variable , the variable is an object.\n",
    " * function inside a class is called methods"
   ]
  },
  {
   "cell_type": "markdown",
   "id": "4e6c19f8",
   "metadata": {},
   "source": [
    "# CLASS\n",
    "\n",
    "* Class is a blueprint (shows the behaviour of object)\n",
    "* Object is an instance of the class\n",
    "* Class contains : Data or property ; \n",
    "                   Functions or behaviour\n",
    "* 2 types of classes : built_in (lists,tuples,set,dictionaries,etc) ; user-defined\n",
    "* user-defined classes are mutable\n",
    "\n",
    "* class is created by Pascal case : HelloWorld\n",
    "* We can also create class ka object inside the class\n"
   ]
  },
  {
   "cell_type": "code",
   "execution_count": 1,
   "id": "578be459",
   "metadata": {},
   "outputs": [],
   "source": [
    "#syntax to create an object\n",
    "#objectname = classname()"
   ]
  },
  {
   "cell_type": "code",
   "execution_count": 2,
   "id": "d3ca34d3",
   "metadata": {},
   "outputs": [],
   "source": [
    "class Atm:\n",
    "    # Constructor: a function in the class -> special function with a superpower i.e. it need not be called separately\n",
    "    def __init__(self):\n",
    "        self.pin = ''\n",
    "        self.balance = 0\n",
    "        self.menu()\n",
    "\n",
    "    def menu(self):\n",
    "        user_input = input(\"\"\"\n",
    "        Hi how can I help you?\n",
    "        1. Press 1 to create pin\n",
    "        2. Press 2 to change pin\n",
    "        3. Press 3 to check balance\n",
    "        4. Press 4 to withdraw\n",
    "        5. Press anything else to exit\n",
    "        \"\"\")\n",
    "\n",
    "        if user_input == '1':\n",
    "            # create pin\n",
    "            self.create_pin()\n",
    "        elif user_input == '2':\n",
    "            # change pin\n",
    "            self.change_pin()\n",
    "        elif user_input == '3':\n",
    "            # check balance\n",
    "            self.check_balance()\n",
    "            pass\n",
    "        elif user_input == '4':\n",
    "            # withdraw\n",
    "            self.withdraw()\n",
    "        else:\n",
    "            exit()\n",
    "\n",
    "    def create_pin(self):\n",
    "        user_pin = input(\"Enter your pin : \")\n",
    "        self.pin = user_pin\n",
    "\n",
    "        user_balance = int(input(\"Enter your balance: \"))\n",
    "        self.balance = user_balance\n",
    "\n",
    "        print(\"Pin created successfully\")\n",
    "        self.menu()\n",
    "        \n",
    "    def change_pin(self):\n",
    "        old_pin = input(\"Enter previous pin : \")\n",
    "        if old_pin == self.pin:\n",
    "            new_pin = input(\"Enter new pin : \")\n",
    "            self.pin = new_pin  # corrected assignment\n",
    "            print(\"Pin changed successfully\")\n",
    "            self.menu()\n",
    "        else:\n",
    "            print(\"Incorrect pin\")\n",
    "            self.menu()\n",
    "\n",
    "        \n",
    "    def check_balance(self):\n",
    "        user_pin=input(\"Enter your pin : \")\n",
    "        if user_pin == self.pin:\n",
    "            print(\"Your Account balance is \",self.balance)\n",
    "        else:\n",
    "            print(\"Incorrect pin\")\n",
    "    \n",
    "    def withdraw(self):\n",
    "        user_pin=input(\"Enter your pin: \")\n",
    "        if user_pin == self.pin:\n",
    "            amount=int(input(\"Enter amount : \"))\n",
    "            if amount <= self.balance:\n",
    "                print(\"Withdrawal successful , balance is \",self.balance-amount)\n",
    "            else:\n",
    "                print(\"Insufficient balance\")\n",
    "        else:\n",
    "            print(\"Incorrect pin\")\n",
    "        self.menu()"
   ]
  },
  {
   "cell_type": "code",
   "execution_count": 4,
   "id": "4f373d31",
   "metadata": {},
   "outputs": [
    {
     "name": "stdout",
     "output_type": "stream",
     "text": [
      "\n",
      "        Hi how can I help you?\n",
      "        1. Press 1 to create pin\n",
      "        2. Press 2 to change pin\n",
      "        3. Press 3 to check balance\n",
      "        4. Press 4 to withdraw\n",
      "        5. Press anything else to exit\n",
      "        4\n",
      "Enter your pin: 4321\n",
      "Incorrect pin\n",
      "\n",
      "        Hi how can I help you?\n",
      "        1. Press 1 to create pin\n",
      "        2. Press 2 to change pin\n",
      "        3. Press 3 to check balance\n",
      "        4. Press 4 to withdraw\n",
      "        5. Press anything else to exit\n",
      "        1\n",
      "Enter your pin : 1234\n",
      "Enter your balance: 5000\n",
      "Pin created successfully\n",
      "\n",
      "        Hi how can I help you?\n",
      "        1. Press 1 to create pin\n",
      "        2. Press 2 to change pin\n",
      "        3. Press 3 to check balance\n",
      "        4. Press 4 to withdraw\n",
      "        5. Press anything else to exit\n",
      "        4\n",
      "Enter your pin: 1234\n",
      "Enter amount : 5999\n",
      "Insufficient balance\n",
      "\n",
      "        Hi how can I help you?\n",
      "        1. Press 1 to create pin\n",
      "        2. Press 2 to change pin\n",
      "        3. Press 3 to check balance\n",
      "        4. Press 4 to withdraw\n",
      "        5. Press anything else to exit\n",
      "        4\n",
      "Enter your pin: 1234\n",
      "Enter amount : 600\n",
      "Withdrawal successful , balance is  4400\n",
      "\n",
      "        Hi how can I help you?\n",
      "        1. Press 1 to create pin\n",
      "        2. Press 2 to change pin\n",
      "        3. Press 3 to check balance\n",
      "        4. Press 4 to withdraw\n",
      "        5. Press anything else to exit\n",
      "        5\n"
     ]
    }
   ],
   "source": [
    "#syntax to create an object\n",
    "#objectname=classname()\n",
    "obj=Atm()\n"
   ]
  },
  {
   "cell_type": "code",
   "execution_count": 3,
   "id": "ef8d8654",
   "metadata": {},
   "outputs": [
    {
     "name": "stdout",
     "output_type": "stream",
     "text": [
      "<class '__main__.Atm'>\n"
     ]
    }
   ],
   "source": [
    "print(type(obj))"
   ]
  },
  {
   "cell_type": "markdown",
   "id": "02bb033c",
   "metadata": {
    "scrolled": true
   },
   "source": [
    "# Functions and Methods\n",
    "\n",
    "* len is a function because it is outside list class\n",
    "* append is a method as it is inside the list class\n",
    "\n",
    "# Magic methods / Dunder methods \n",
    "\n",
    "* magic methods are denoted as __name__\n",
    "* used to create your own datatype\n",
    "\n",
    "* constructor is a method which need not be called , it is triggered automatically when object is called\n",
    "* constructor is used to write configuration related code i.e. user has no control over it\n",
    "* in python the only name for constructor is __init__\n",
    "* there are no multiple constructors"
   ]
  },
  {
   "cell_type": "code",
   "execution_count": 4,
   "id": "624da31e",
   "metadata": {},
   "outputs": [],
   "source": [
    "# __init__ \n",
    "# __str__"
   ]
  },
  {
   "cell_type": "markdown",
   "id": "ecaf9121",
   "metadata": {},
   "source": [
    "# self\n",
    "\n",
    "* all attributes in class can \"only\" be accessed by its \"own object\" not even its own function can do that\n",
    "* self is nothing but the \"current object\" of the class\n",
    "* self is an instance of class\n",
    "* self is a mediator , can be named anything"
   ]
  },
  {
   "cell_type": "code",
   "execution_count": 32,
   "id": "a701c1d1",
   "metadata": {},
   "outputs": [],
   "source": [
    "#creating my own datatype\n",
    "#parameterized constructor is one that needs input\n",
    "class Fraction:\n",
    "    \n",
    "    def __init__(self,x,y):\n",
    "        self.num=x\n",
    "        self.den=y\n",
    "        \n",
    "    def __str__(self):\n",
    "        return '{}/{}'.format(self.num,self.den)\n",
    "    \n",
    "    def __add__(self,other):\n",
    "        new_num=self.num*other.den + other.num * self.den\n",
    "        new_den = self.den*other.num \n",
    "        \n",
    "        return \"{}/{}\".format(new_num,new_den)\n",
    "    \n",
    "    def __sub__(self,other):\n",
    "        new_num=self.num*other.den - other.num * self.den\n",
    "        new_den = self.den*other.num \n",
    "        \n",
    "        return \"{}/{}\".format(new_num,new_den)\n",
    "    \n",
    "    def __mul__(self,other):\n",
    "        new_num=self.num*other.num \n",
    "        new_den = self.den*other.den\n",
    "        \n",
    "        return \"{}/{}\".format(new_num,new_den)\n",
    "    \n",
    "    def __truediv__(self,other):\n",
    "        new_num=self.num*other.den\n",
    "        new_den = self.den*other.num \n",
    "        \n",
    "        return \"{}/{}\".format(new_num,new_den)\n",
    "    \n",
    "    def convert_to_decimal(self):\n",
    "        return self.num/self.den"
   ]
  },
  {
   "cell_type": "code",
   "execution_count": 33,
   "id": "10731e19",
   "metadata": {},
   "outputs": [],
   "source": [
    "fr1=Fraction(3,4)\n",
    "fr2=Fraction(6,5)"
   ]
  },
  {
   "cell_type": "code",
   "execution_count": 30,
   "id": "0ba8d56e",
   "metadata": {},
   "outputs": [
    {
     "name": "stdout",
     "output_type": "stream",
     "text": [
      "39/24\n",
      "-9/24\n",
      "18/20\n",
      "15/24\n"
     ]
    }
   ],
   "source": [
    "print(fr1+fr2)\n",
    "print(fr1-fr2)\n",
    "print(fr1*fr2)\n",
    "print(fr1/fr2)\n"
   ]
  },
  {
   "cell_type": "code",
   "execution_count": 35,
   "id": "3fe916f1",
   "metadata": {},
   "outputs": [
    {
     "data": {
      "text/plain": [
       "0.75"
      ]
     },
     "execution_count": 35,
     "metadata": {},
     "output_type": "execute_result"
    }
   ],
   "source": [
    "fr1.convert_to_decimal() #non magic methods"
   ]
  },
  {
   "cell_type": "code",
   "execution_count": null,
   "id": "dfc2e959",
   "metadata": {},
   "outputs": [],
   "source": []
  },
  {
   "cell_type": "code",
   "execution_count": 23,
   "id": "c11e338f",
   "metadata": {},
   "outputs": [],
   "source": [
    "class Point:\n",
    "    \n",
    "    def __init__(self,x,y):\n",
    "        self.x_cod=x\n",
    "        self.y_cod=y\n",
    "        \n",
    "    def __str__(self):\n",
    "        return '<{},{}>'.format(self.x_cod,self.y_cod)\n",
    "    \n",
    "    def euclidean_distance(self,other):\n",
    "        return ((self.x_cod-other.x_cod)**2+(self.y_cod-other.y_cod)**2)**0.5\n",
    "    \n",
    "    def distance_from_origin(self):\n",
    "        return self.euclidean_distance(Point(0,0))\n",
    "    \n",
    "class Line:\n",
    "    \n",
    "    def __init__(self,A,B,C):\n",
    "        self.A = A\n",
    "        self.B = B\n",
    "        self.C = C\n",
    "        \n",
    "    def __str__(self):\n",
    "        return '{}x+{}y+{}'.format(self.A,self.B,self.C)\n",
    "    \n",
    "    def point_on_line(line,point):\n",
    "        if line.A*point.x_cod + line.B*point.y_cod + line.C == 0:\n",
    "            return \"Point lies on line\"\n",
    "        else :\n",
    "            return \"Point does not lie on line\""
   ]
  },
  {
   "cell_type": "code",
   "execution_count": 18,
   "id": "90e52047",
   "metadata": {},
   "outputs": [
    {
     "name": "stdout",
     "output_type": "stream",
     "text": [
      "<0,0>\n",
      "<1,1>\n",
      "1.4142135623730951\n",
      "0.0\n"
     ]
    }
   ],
   "source": [
    "p1=Point(0,0)\n",
    "p2=Point(1,1)\n",
    "print(p1)\n",
    "print(p2)\n",
    "\n",
    "print(p1.euclidean_distance(p2))\n",
    "#Point.euclidean_distance(p1,p2)\n",
    "\n",
    "print(p1.distance_from_origin())"
   ]
  },
  {
   "cell_type": "code",
   "execution_count": 27,
   "id": "ffdd3123",
   "metadata": {},
   "outputs": [
    {
     "name": "stdout",
     "output_type": "stream",
     "text": [
      "5x+4y+6\n"
     ]
    },
    {
     "data": {
      "text/plain": [
       "'Point lies on line'"
      ]
     },
     "execution_count": 27,
     "metadata": {},
     "output_type": "execute_result"
    }
   ],
   "source": [
    "l1=Line(0,0,0)\n",
    "print(L1)\n",
    "\n",
    "l1.point_on_line(p1)"
   ]
  },
  {
   "cell_type": "markdown",
   "id": "3c323951",
   "metadata": {},
   "source": [
    "* you can create atttribute outside class using object\n",
    "# reference variables : \n",
    "* holds the object i.e. memory address of object\n",
    "* here p1,p2,l1 is a reference variable\n",
    "* we can create objects without reference variable as well i.e. without p1 , p2 , etc\n",
    "* an object can have multiple reference variables\n",
    "* Assigning a new reference variable to an existing object does not create a new object"
   ]
  },
  {
   "cell_type": "markdown",
   "id": "5e1d262a",
   "metadata": {},
   "source": [
    "# Encapsulation\n",
    "\n",
    "* instance variable is a special value that assigns value according to object\n",
    "* for every object value of instance variable is different  \n",
    "* data with its 2 methods(getter , setter)\n",
    "* you want to keep data private but also show it so encapsule"
   ]
  },
  {
   "cell_type": "markdown",
   "id": "b1533391",
   "metadata": {},
   "source": [
    "* you can make objects and store it in a list/tuple/dictionary\n",
    "\n",
    "# Static variables\n",
    "\n",
    "* instance variable is different for every object while static is same\n",
    "* static variable is for class\n",
    "* instance variable is for objects\n",
    "* static variable is class_name.variable_name declared outside all methods\n",
    "* instance variable is objectname.variable_name"
   ]
  },
  {
   "cell_type": "markdown",
   "id": "6913df08",
   "metadata": {},
   "source": [
    "# Class relationships\n",
    "\n",
    "* Aggregation\n",
    "* Aggregation"
   ]
  },
  {
   "cell_type": "markdown",
   "id": "65eb31af",
   "metadata": {},
   "source": [
    "# Aggregation:(Has a relationship)\n",
    "\n",
    "* one class owns the other class\n",
    "* eg: customer has an address , hotel has a menu\n",
    "* you cannot access private variables in aggregation you have to use getter methods"
   ]
  },
  {
   "cell_type": "code",
   "execution_count": 14,
   "id": "be5c6086",
   "metadata": {},
   "outputs": [
    {
     "name": "stdout",
     "output_type": "stream",
     "text": [
      "Pune 416003 Maharashtra\n"
     ]
    }
   ],
   "source": [
    "class Customer:\n",
    "    \n",
    "    def __init__(self,name,gender,address):\n",
    "        self.name=name\n",
    "        self.gender=gender\n",
    "        self.address=address\n",
    "        \n",
    "    def print_address(self):\n",
    "        print(self.address.city,self.address.pincode,self.address.state)\n",
    "        \n",
    "        \n",
    "class Address:\n",
    "    \n",
    "    def __init__(self,city,state,pincode):\n",
    "        self.city=city\n",
    "        self.state=state\n",
    "        self.pincode=pincode\n",
    "        \n",
    "   \n",
    "        \n",
    "add1=Address(\"Pune\",\"Maharashtra\",416003)\n",
    "cust=Customer(\"SUMA\",\"Female\",add1)\n",
    "cust.print_address()"
   ]
  },
  {
   "cell_type": "markdown",
   "id": "3481af65",
   "metadata": {},
   "source": [
    "# Inheritance\n",
    "\n",
    "* biggest advantage : code reusability\n",
    "* A class can inherit from another class\n",
    "* Constructor , attributes , methods get inherited to the child class\n",
    "* The parent has no access to child class\n",
    "* Private properties of parent are not accessible directly in child class\n",
    "\n",
    "# What gets inherited:\n",
    "\n",
    "* constructor\n",
    "* non private attributes\n",
    "* non private methods \n",
    "\n",
    "* if child does not have its own constructor then parent constructor is called\n",
    "* if child does has its own constructor then parent constructor is not called\n",
    "* child object can't access private members or data or methods of parent class\n",
    "\n",
    "# Method overriding\n",
    "\n",
    "* if parent and child class have method with same name then child class method will be called\n",
    "* Child class can override the attributes or methods ; this is called method overriding\n",
    "\n",
    "# Super keyword\n",
    "\n",
    "* super() is an inbuilt function which is used to invoke the parent class methods and constructor\n",
    "* super is a way to call method of parent class\n",
    "* super.method_name()\n",
    "* super cannot access variables\n",
    "* always use inside child class\n",
    "\n"
   ]
  },
  {
   "cell_type": "markdown",
   "id": "8b8515c2",
   "metadata": {},
   "source": [
    "# Types of inheritance\n",
    "\n",
    "* 1. Single inheritance : 1 parent & 1 child\n",
    "* 2. Multi-level inheritance : .....<grandparent<parent<child<.....\n",
    "* 3. Hierarchial inheritance : 1 parent & multiple children\n",
    "* 4. Multiple inheritance : 2 parents & 1 child \n",
    "*  In case of ambiguity (same name methods in both parent classes) , the class written first ka method access hota hai\n",
    "* 5. Hybrid inheritance : combination"
   ]
  },
  {
   "cell_type": "markdown",
   "id": "33c689a4",
   "metadata": {},
   "source": [
    "# Polymorphism\n",
    "\n",
    "* Polymorphism consists of:\n",
    "\n",
    "1. Method overriding : Child class can override the attributes or methods ; this is called method overriding\n",
    "2. Method overloading : class contains 2 methods of same name but different behaviour \n",
    "* used because code looks cleaner\n",
    "* does not work in python\n",
    "3. Operator overloading : same operator has different behaviour based on the input"
   ]
  },
  {
   "cell_type": "markdown",
   "id": "b2dad3aa",
   "metadata": {},
   "source": [
    "# Abstraction\n",
    "\n",
    "*  method that has no execution\n",
    "* created using decorator @abstractmethod\n",
    "* You cannot make object of abstraction class\n",
    "* hide details\n",
    "* ensures child class obeys senior \n"
   ]
  }
 ],
 "metadata": {
  "kernelspec": {
   "display_name": "Python 3 (ipykernel)",
   "language": "python",
   "name": "python3"
  },
  "language_info": {
   "codemirror_mode": {
    "name": "ipython",
    "version": 3
   },
   "file_extension": ".py",
   "mimetype": "text/x-python",
   "name": "python",
   "nbconvert_exporter": "python",
   "pygments_lexer": "ipython3",
   "version": "3.11.5"
  }
 },
 "nbformat": 4,
 "nbformat_minor": 5
}
